{
 "cells": [
  {
   "cell_type": "markdown",
   "id": "cc537d49",
   "metadata": {},
   "source": [
    "# 함수"
   ]
  },
  {
   "cell_type": "markdown",
   "id": "fe809d64",
   "metadata": {},
   "source": [
    "## 1. 정수 N개의 합\n",
    "### \n",
    "```python\n",
    "정수 n개가 주어졌을 때, n개의 합을 구하는 함수를 작성하시오.\n",
    "\n",
    "작성해야 하는 함수는 다음과 같다.\n",
    "\n",
    "C, C11, C (Clang), C11 (Clang): long long sum(int *a, int n);\n",
    "a: 합을 구해야 하는 정수 n개가 저장되어 있는 배열 (0 ≤ a[i] ≤ 1,000,000, 1 ≤ n ≤ 3,000,000)\n",
    "n: 합을 구해야 하는 정수의 개수\n",
    "리턴값: a에 포함되어 있는 정수 n개의 합\n",
    "C++, C++11, C++14, C++17, C++ (Clang), C++11 (Clang), C++14 (Clang), C++17 (Clang): long long sum(std::vector<int> &a);\n",
    "a: 합을 구해야 하는 정수 n개가 저장되어 있는 배열 (0 ≤ a[i] ≤ 1,000,000, 1 ≤ n ≤ 3,000,000)\n",
    "리턴값: a에 포함되어 있는 정수 n개의 합\n",
    "Python 2, Python 3, PyPy, PyPy3: def solve(a: list) -> int\n",
    "a: 합을 구해야 하는 정수 n개가 저장되어 있는 리스트 (0 ≤ a[i] ≤ 1,000,000, 1 ≤ n ≤ 3,000,000)\n",
    "리턴값: a에 포함되어 있는 정수 n개의 합 (정수)\n",
    "Java: long sum(int[] a); (클래스 이름: Test)\n",
    "a: 합을 구해야 하는 정수 n개가 저장되어 있는 배열 (0 ≤ a[i] ≤ 1,000,000, 1 ≤ n ≤ 3,000,000)\n",
    "리턴값: a에 포함되어 있는 정수 n개의 합\n",
    "Go: sum(a []int) int\n",
    "a: 합을 구해야 하는 정수 n개가 저장되어 있는 배열 (0 ≤ a[i] ≤ 1,000,000, 1 ≤ n ≤ 3,000,000)\n",
    "리턴값: a에 포함되어 있는 정수 n개의 합\n",
    "```"
   ]
  },
  {
   "cell_type": "code",
   "execution_count": null,
   "id": "8245c6cc",
   "metadata": {},
   "outputs": [],
   "source": [
    "def solve(a: list)\n",
    "(0 ≤ a[i] ≤ 1,000,000, 1 ≤ n ≤ 3,000,000)"
   ]
  },
  {
   "cell_type": "code",
   "execution_count": null,
   "id": "bad65bee",
   "metadata": {},
   "outputs": [],
   "source": [
    "def solve(a):\n",
    "    return sum(a)"
   ]
  },
  {
   "cell_type": "code",
   "execution_count": null,
   "id": "888ad2b4",
   "metadata": {},
   "outputs": [],
   "source": [
    "def solve(a):\n",
    "    total = 0\n",
    "    for x in a:\n",
    "        total += x\n",
    "    return total"
   ]
  },
  {
   "cell_type": "markdown",
   "id": "cd064499",
   "metadata": {},
   "source": [
    "## 2. 셀프 넘버 \n",
    "### \n",
    "```python\n",
    "셀프 넘버는 1949년 인도 수학자 D.R. Kaprekar가 이름 붙였다. 양의 정수 n에 대해서 d(n)을 n과 n의 각 자리수를 더하는 함수라고 정의하자. 예를 들어, d(75) = 75+7+5 = 87이다.\n",
    "\n",
    "양의 정수 n이 주어졌을 때, 이 수를 시작해서 n, d(n), d(d(n)), d(d(d(n))), ...과 같은 무한 수열을 만들 수 있다. \n",
    "\n",
    "예를 들어, 33으로 시작한다면 다음 수는 33 + 3 + 3 = 39이고, 그 다음 수는 39 + 3 + 9 = 51, 다음 수는 51 + 5 + 1 = 57이다. 이런식으로 다음과 같은 수열을 만들 수 있다.\n",
    "\n",
    "33, 39, 51, 57, 69, 84, 96, 111, 114, 120, 123, 129, 141, ...\n",
    "\n",
    "n을 d(n)의 생성자라고 한다. 위의 수열에서 33은 39의 생성자이고, 39는 51의 생성자, 51은 57의 생성자이다. 생성자가 한 개보다 많은 경우도 있다. 예를 들어, 101은 생성자가 2개(91과 100) 있다. \n",
    "\n",
    "생성자가 없는 숫자를 셀프 넘버라고 한다. 100보다 작은 셀프 넘버는 총 13개가 있다. 1, 3, 5, 7, 9, 20, 31, 42, 53, 64, 75, 86, 97\n",
    "\n",
    "10000보다 작거나 같은 셀프 넘버를 한 줄에 하나씩 출력하는 프로그램을 작성하시오.\n",
    "```"
   ]
  },
  {
   "cell_type": "code",
   "execution_count": null,
   "id": "e62974dc",
   "metadata": {},
   "outputs": [],
   "source": [
    "for i in range(1, 10001):\n",
    "    for j in str(i):\n",
    "        i += int(j)"
   ]
  },
  {
   "cell_type": "code",
   "execution_count": null,
   "id": "dc821143",
   "metadata": {},
   "outputs": [],
   "source": [
    "num = set(range(1,10001))\n",
    "rmv = set()\n",
    "for i in range (1,10001):\n",
    "    for j in str(i):\n",
    "        i += int(j)\n",
    "    rmv.add(i)\n",
    "num = num - rmv\n",
    "for k in sorted(num):\n",
    "    print(k)"
   ]
  },
  {
   "cell_type": "markdown",
   "id": "56c0fee7",
   "metadata": {},
   "source": [
    "## 3. 한수\n",
    "### 어떤 양의 정수 X의 각 자리가 등차수열을 이룬다면, 그 수를 한수라고 한다. 등차수열은 연속된 두 개의 수의 차이가 일정한 수열을 말한다. N이 주어졌을 때, 1보다 크거나 같고, N보다 작거나 같은 한수의 개수를 출력하는 프로그램을 작성하시오. "
   ]
  },
  {
   "cell_type": "code",
   "execution_count": 3,
   "id": "897a5062",
   "metadata": {},
   "outputs": [
    {
     "name": "stdout",
     "output_type": "stream",
     "text": [
      "110\n",
      "99\n"
     ]
    }
   ],
   "source": [
    "num = int(input())\n",
    "h = 0\n",
    "\n",
    "for n in range(1, num+1):\n",
    "    if n <= 99:\n",
    "        h += 1\n",
    "        \n",
    "    else:\n",
    "        nums = list(map(int, str(n)))\n",
    "        if nums[0] - nums[1] == nums[1] - nums[2]:\n",
    "            h += 1\n",
    "print(h)"
   ]
  },
  {
   "cell_type": "markdown",
   "id": "8b875c02",
   "metadata": {},
   "source": [
    "# 문자열"
   ]
  },
  {
   "cell_type": "markdown",
   "id": "60206a87",
   "metadata": {},
   "source": [
    "## 1. 아스키 코드\n",
    "### 알파벳 소문자, 대문자, 숫자 0-9중 하나가 주어졌을 때, 주어진 글자의 아스키 코드값을 출력하는 프로그램을 작성하시오."
   ]
  },
  {
   "cell_type": "code",
   "execution_count": 3,
   "id": "5735136f",
   "metadata": {},
   "outputs": [
    {
     "name": "stdout",
     "output_type": "stream",
     "text": [
      "A\n",
      "65\n"
     ]
    }
   ],
   "source": [
    "a = input()\n",
    "print(ord(a))"
   ]
  },
  {
   "cell_type": "markdown",
   "id": "9bcfda0a",
   "metadata": {},
   "source": [
    "## 2. 숫자의 합\n",
    "### N개의 숫자가 공백 없이 쓰여있다. 이 숫자를 모두 합해서 출력하는 프로그램을 작성하시오."
   ]
  },
  {
   "cell_type": "code",
   "execution_count": 15,
   "id": "44bd6517",
   "metadata": {},
   "outputs": [
    {
     "name": "stdout",
     "output_type": "stream",
     "text": [
      "5\n",
      "54321\n",
      "15\n"
     ]
    }
   ],
   "source": [
    "n = int(input())\n",
    "print(sum(map(int, input())))"
   ]
  },
  {
   "cell_type": "markdown",
   "id": "bdaf350e",
   "metadata": {},
   "source": [
    "## 3. 알파벳 찾기\n",
    "### 알파벳 소문자로만 이루어진 단어 S가 주어진다. 각각의 알파벳에 대해서, 단어에 포함되어 있는 경우에는 처음 등장하는 위치를, 포함되어 있지 않은 경우에는 -1을 출력하는 프로그램을 작성하시오."
   ]
  },
  {
   "cell_type": "code",
   "execution_count": 33,
   "id": "742f1214",
   "metadata": {},
   "outputs": [
    {
     "name": "stdout",
     "output_type": "stream",
     "text": [
      "baekjoon\n",
      "1 0 -1 -1 2 -1 -1 -1 -1 4 3 -1 -1 7 5 -1 -1 -1 -1 -1 -1 -1 -1 -1 -1 -1 "
     ]
    }
   ],
   "source": [
    "N = input()\n",
    "alphabet = \"abcdefghijklmnopqrstuvwxyz\"\n",
    "for i in alphabet:\n",
    "    print(N.find(i), end = ' ')"
   ]
  },
  {
   "cell_type": "markdown",
   "id": "f1f38d4d",
   "metadata": {},
   "source": [
    "## 4. 문자열 반복\n",
    "### 문자열 S를 입력받은 후에, 각 문자를 R번 반복해 새 문자열 P를 만든 후 출력하는 프로그램을 작성하시오. 즉, 첫 번째 문자를 R번 반복하고, 두 번째 문자를 R번 반복하는 식으로 P를 만들면 된다. S에는 QR Code \"alphanumeric\" 문자만 들어있다.\n",
    "### QR Code \"alphanumeric\" 문자는 0123456789ABCDEFGHIJKLMNOPQRSTUVWXYZ\\$%*+-./: 이다."
   ]
  },
  {
   "cell_type": "code",
   "execution_count": 54,
   "id": "62028f43",
   "metadata": {},
   "outputs": [
    {
     "name": "stdout",
     "output_type": "stream",
     "text": [
      "2\n",
      "3 ABC\n",
      "AAABBBCCC\n",
      "5 /HTP\n",
      "/////HHHHHTTTTTPPPPP\n"
     ]
    }
   ],
   "source": [
    "N = int(input())\n",
    "\n",
    "for i in range(N):\n",
    "    a, b = input().split()\n",
    "    \n",
    "    for j in b:\n",
    "        for k in range(int(a)):\n",
    "            print(j, end = '')\n",
    "    print()"
   ]
  },
  {
   "cell_type": "markdown",
   "id": "b1e743d1",
   "metadata": {},
   "source": [
    "## *5. 단어 공부\n",
    "### 알파벳 대소문자로 된 단어가 주어지면, 이 단어에서 가장 많이 사용된 알파벳이 무엇인지 알아내는 프로그램을 작성하시오. 단, 대문자와 소문자를 구분하지 않는다."
   ]
  },
  {
   "cell_type": "code",
   "execution_count": 72,
   "id": "aea9a8d6",
   "metadata": {},
   "outputs": [
    {
     "name": "stdout",
     "output_type": "stream",
     "text": [
      "Mississipi\n",
      "?\n"
     ]
    }
   ],
   "source": [
    "word = input().upper()\n",
    "word_list = list(set(word))\n",
    "\n",
    "cnt = []\n",
    "for i in word_list:\n",
    "    count = word.count\n",
    "    cnt.append(count(i))\n",
    "    \n",
    "if cnt.count(max(cnt)) > 1:\n",
    "    print(\"?\")\n",
    "    \n",
    "else:\n",
    "    print(word_list[cnt.index(max(cnt))])"
   ]
  },
  {
   "cell_type": "markdown",
   "id": "7690ea0e",
   "metadata": {},
   "source": [
    "## 6. 단어의 개수\n",
    "### 영어 대소문자와 공백으로 이루어진 문자열이 주어진다. 이 문자열에는 몇 개의 단어가 있을까? 이를 구하는 프로그램을 작성하시오. 단, 한 단어가 여러 번 등장하면 등장한 횟수만큼 모두 세어야 한다."
   ]
  },
  {
   "cell_type": "code",
   "execution_count": 61,
   "id": "73bcd087",
   "metadata": {},
   "outputs": [
    {
     "name": "stdout",
     "output_type": "stream",
     "text": [
      "The Curious Case of Benjamin Button\n",
      "6\n"
     ]
    }
   ],
   "source": [
    "print(len(input().split()))"
   ]
  },
  {
   "cell_type": "markdown",
   "id": "9761d475",
   "metadata": {},
   "source": [
    "## 7. 상수\n",
    "### 상근이의 동생 상수는 수학을 정말 못한다. 상수는 숫자를 읽는데 문제가 있다. 이렇게 수학을 못하는 상수를 위해서 상근이는 수의 크기를 비교하는 문제를 내주었다. 상근이는 세 자리 수 두 개를 칠판에 써주었다. 그 다음에 크기가 큰 수를 말해보라고 했다.\n",
    "\n",
    "상수는 수를 다른 사람과 다르게 거꾸로 읽는다. 예를 들어, 734와 893을 칠판에 적었다면, 상수는 이 수를 437과 398로 읽는다. 따라서, 상수는 두 수중 큰 수인 437을 큰 수라고 말할 것이다.\n",
    "\n",
    "두 수가 주어졌을 때, 상수의 대답을 출력하는 프로그램을 작성하시오."
   ]
  },
  {
   "cell_type": "code",
   "execution_count": 73,
   "id": "4ed34e61",
   "metadata": {},
   "outputs": [
    {
     "name": "stdout",
     "output_type": "stream",
     "text": [
      "221 231\n",
      "132\n"
     ]
    }
   ],
   "source": [
    "a, b = input().split()\n",
    "a = int(a[::-1])\n",
    "b = int(b[::-1])\n",
    "\n",
    "if a > b:\n",
    "    print(a)\n",
    "else:\n",
    "    print(b)"
   ]
  },
  {
   "cell_type": "code",
   "execution_count": 29,
   "id": "17d8ccb6",
   "metadata": {},
   "outputs": [
    {
     "name": "stdout",
     "output_type": "stream",
     "text": [
      "221 231\n",
      "132\n"
     ]
    }
   ],
   "source": [
    "a, b = input().split()\n",
    "a = a[::-1]\n",
    "b = b[::-1]\n",
    "print(max(a, b))"
   ]
  },
  {
   "cell_type": "markdown",
   "id": "1ad079e6",
   "metadata": {},
   "source": [
    "주어진 숫자를 거꾸로 비교"
   ]
  },
  {
   "cell_type": "markdown",
   "id": "8629921e",
   "metadata": {},
   "source": [
    "## *8. 다이얼\n",
    "### 상근이의 할머니는 아래 그림과 같이 오래된 다이얼 전화기를 사용한다.\n",
    "\n",
    "\n",
    "\n",
    "전화를 걸고 싶은 번호가 있다면, 숫자를 하나를 누른 다음에 금속 핀이 있는 곳 까지 시계방향으로 돌려야 한다. 숫자를 하나 누르면 다이얼이 처음 위치로 돌아가고, 다음 숫자를 누르려면 다이얼을 처음 위치에서 다시 돌려야 한다.\n",
    "\n",
    "숫자 1을 걸려면 총 2초가 필요하다. 1보다 큰 수를 거는데 걸리는 시간은 이보다 더 걸리며, 한 칸 옆에 있는 숫자를 걸기 위해선 1초씩 더 걸린다.\n",
    "\n",
    "상근이의 할머니는 전화 번호를 각 숫자에 해당하는 문자로 외운다. 즉, 어떤 단어를 걸 때, 각 알파벳에 해당하는 숫자를 걸면 된다. 예를 들어, UNUCIC는 868242와 같다.\n",
    "\n",
    "할머니가 외운 단어가 주어졌을 때, 이 전화를 걸기 위해서 필요한 최소 시간을 구하는 프로그램을 작성하시오."
   ]
  },
  {
   "cell_type": "code",
   "execution_count": 66,
   "id": "835eb006",
   "metadata": {},
   "outputs": [
    {
     "name": "stdout",
     "output_type": "stream",
     "text": [
      "UNUCIC\n",
      "36\n"
     ]
    }
   ],
   "source": [
    "dial = ['ABC', 'DEF', 'GHI', 'JKL', 'MNO', 'PQRS', 'TUV', 'WXYZ']\n",
    "a = input()\n",
    "ret = 0\n",
    "for j in range(len(a)):\n",
    "    for i in dial:\n",
    "        if a[j] in i:\n",
    "            ret += dial.index(i)+3\n",
    "print(ret)"
   ]
  },
  {
   "cell_type": "markdown",
   "id": "398ae60c",
   "metadata": {},
   "source": [
    "1 2 3 4 5 6 7 8 9 0"
   ]
  },
  {
   "cell_type": "markdown",
   "id": "afa0745f",
   "metadata": {},
   "source": [
    "## *9. 크로아티아 알파벳\n",
    "### 예전에는 운영체제에서 크로아티아 알파벳을 입력할 수가 없었다. 따라서, 다음과 같이 크로아티아 알파벳을 변경해서 입력했다.\n",
    "\n",
    "크로아티아 알파벳\t변경\n",
    "č\tc=\n",
    "ć\tc-\n",
    "dž\tdz=\n",
    "đ\td-\n",
    "lj\tlj\n",
    "nj\tnj\n",
    "š\ts=\n",
    "ž\tz=\n",
    "예를 들어, ljes=njak은 크로아티아 알파벳 6개(lj, e, š, nj, a, k)로 이루어져 있다. 단어가 주어졌을 때, 몇 개의 크로아티아 알파벳으로 이루어져 있는지 출력한다.\n",
    "\n",
    "dž는 무조건 하나의 알파벳으로 쓰이고, d와 ž가 분리된 것으로 보지 않는다. lj와 nj도 마찬가지이다. 위 목록에 없는 알파벳은 한 글자씩 센다."
   ]
  },
  {
   "cell_type": "code",
   "execution_count": 64,
   "id": "a25d6e76",
   "metadata": {},
   "outputs": [
    {
     "name": "stdout",
     "output_type": "stream",
     "text": [
      "ljes=njak\n",
      "6\n"
     ]
    }
   ],
   "source": [
    "a = ['c=', 'c-', 'dz=', 'd-', 'lj', 'nj', 's=', 'z=']\n",
    "alpha = input()\n",
    "\n",
    "for t in a:\n",
    "    alpha = alpha.replace(t, '*')\n",
    "    \n",
    "print(len(alpha))"
   ]
  },
  {
   "cell_type": "markdown",
   "id": "b0ad0360",
   "metadata": {},
   "source": [
    "## *10. 그룹 단어 체커\n",
    "### 그룹 단어란 단어에 존재하는 모든 문자에 대해서, 각 문자가 연속해서 나타나는 경우만을 말한다. 예를 들면, ccazzzzbb는 c, a, z, b가 모두 연속해서 나타나고, kin도 k, i, n이 연속해서 나타나기 때문에 그룹 단어이지만, aabbbccb는 b가 떨어져서 나타나기 때문에 그룹 단어가 아니다.\n",
    "\n",
    "### 단어 N개를 입력으로 받아 그룹 단어의 개수를 출력하는 프로그램을 작성하시오."
   ]
  },
  {
   "cell_type": "code",
   "execution_count": 3,
   "id": "4a6af2a7",
   "metadata": {},
   "outputs": [
    {
     "name": "stdout",
     "output_type": "stream",
     "text": [
      "2\n",
      "aaabb\n",
      "abba\n",
      "0\n"
     ]
    }
   ],
   "source": [
    "N = int(input())\n",
    "result = N\n",
    "result = 0\n",
    "for i in range(N):\n",
    "    word = input()\n",
    "    for j in range(len(word)-1):\n",
    "        if word[j] == word[j+1]:\n",
    "            pass\n",
    "        if word[j] in word[j+1:]:\n",
    "            break\n",
    "print(result)"
   ]
  },
  {
   "cell_type": "markdown",
   "id": "413dadd4",
   "metadata": {},
   "source": [
    "if break 연속된거 "
   ]
  }
 ],
 "metadata": {
  "kernelspec": {
   "display_name": "Python 3",
   "language": "python",
   "name": "python3"
  },
  "language_info": {
   "codemirror_mode": {
    "name": "ipython",
    "version": 3
   },
   "file_extension": ".py",
   "mimetype": "text/x-python",
   "name": "python",
   "nbconvert_exporter": "python",
   "pygments_lexer": "ipython3",
   "version": "3.8.8"
  }
 },
 "nbformat": 4,
 "nbformat_minor": 5
}
