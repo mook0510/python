{
 "cells": [
  {
   "cell_type": "markdown",
   "id": "3779e426",
   "metadata": {},
   "source": [
    "# 기본 수학 2"
   ]
  },
  {
   "cell_type": "markdown",
   "id": "a96e96a3",
   "metadata": {},
   "source": [
    "## 1. 소수 찾기\n",
    "### 주어진 수 N개 중에서 소수가 몇 개인지 찾아서 출력하는 프로그램을 작성하시오."
   ]
  },
  {
   "cell_type": "code",
   "execution_count": 9,
   "id": "946df63e",
   "metadata": {},
   "outputs": [
    {
     "name": "stdout",
     "output_type": "stream",
     "text": [
      "4\n",
      "1 3 5 7\n",
      "3\n"
     ]
    }
   ],
   "source": [
    "n = int(input())\n",
    "numbers = map(int, input().split())\n",
    "result = 0\n",
    "for num in numbers:\n",
    "    error = 0\n",
    "    if num > 1 :\n",
    "        for i in range(2, num):\n",
    "            if num % i == 0:\n",
    "                error += 1\n",
    "        if error == 0:\n",
    "            result += 1\n",
    "print(result)"
   ]
  },
  {
   "cell_type": "markdown",
   "id": "e2fcf26f",
   "metadata": {},
   "source": [
    "## 2. 소수\n",
    "### 자연수 M과 N이 주어질 때 M이상 N이하의 자연수 중 소수인 것을 모두 골라 이들 소수의 합과 최솟값을 찾는 프로그램을 작성하시오.\n",
    "\n",
    "### 예를 들어 M=60, N=100인 경우 60이상 100이하의 자연수 중 소수는 61, 67, 71, 73, 79, 83, 89, 97 총 8개가 있으므로, 이들 소수의 합은 620이고, 최솟값은 61이 된다."
   ]
  },
  {
   "cell_type": "markdown",
   "id": "f3a4d001",
   "metadata": {},
   "source": [
    "2나누고\n",
    "3나누고\n",
    "5나누고\n",
    "7나누고"
   ]
  },
  {
   "cell_type": "code",
   "execution_count": 1,
   "id": "ab965b8a",
   "metadata": {},
   "outputs": [],
   "source": [
    "def is_prime_num(n):\n",
    "    for i in range(2, n):\n",
    "        if n % i == 0:\n",
    "            return False\n",
    "    \n",
    "    return True"
   ]
  },
  {
   "cell_type": "markdown",
   "id": "9616bf1c",
   "metadata": {},
   "source": [
    "## 3. 소인수분해\n",
    "### 정수 N이 주어졌을 때, 소인수분해하는 프로그램을 작성하시오."
   ]
  },
  {
   "cell_type": "code",
   "execution_count": null,
   "id": "64b1a264",
   "metadata": {},
   "outputs": [],
   "source": []
  },
  {
   "cell_type": "markdown",
   "id": "8f4e0b50",
   "metadata": {},
   "source": [
    "## 4. 소수 구하기\n",
    "### M이상 N이하의 소수를 모두 출력하는 프로그램을 작성하시오."
   ]
  },
  {
   "cell_type": "code",
   "execution_count": null,
   "id": "beb7ad94",
   "metadata": {},
   "outputs": [],
   "source": []
  },
  {
   "cell_type": "markdown",
   "id": "78d76dc9",
   "metadata": {},
   "source": [
    "## 5. 베르트랑 공준\n",
    "```python\n",
    "베르트랑 공준은 임의의 자연수 n에 대하여, n보다 크고, 2n보다 작거나 같은 소수는 적어도 하나 존재한다는 내용을 담고 있다.\n",
    "\n",
    "이 명제는 조제프 베르트랑이 1845년에 추측했고, 파프누티 체비쇼프가 1850년에 증명했다.\n",
    "\n",
    "예를 들어, 10보다 크고, 20보다 작거나 같은 소수는 4개가 있다. (11, 13, 17, 19) 또, 14보다 크고, 28보다 작거나 같은 소수는 3개가 있다. (17,19, 23)\n",
    "\n",
    "자연수 n이 주어졌을 때, n보다 크고, 2n보다 작거나 같은 소수의 개수를 구하는 프로그램을 작성하시오. \n",
    "```"
   ]
  },
  {
   "cell_type": "code",
   "execution_count": null,
   "id": "2ffe136f",
   "metadata": {},
   "outputs": [],
   "source": []
  },
  {
   "cell_type": "markdown",
   "id": "e814a9c3",
   "metadata": {},
   "source": [
    "## 6. 골드바흐의 추측\n",
    "```python\n",
    "1보다 큰 자연수 중에서  1과 자기 자신을 제외한 약수가 없는 자연수를 소수라고 한다. 예를 들어, 5는 1과 5를 제외한 약수가 없기 때문에 소수이다. 하지만, 6은 6 = 2 × 3 이기 때문에 소수가 아니다.\n",
    "\n",
    "골드바흐의 추측은 유명한 정수론의 미해결 문제로, 2보다 큰 모든 짝수는 두 소수의 합으로 나타낼 수 있다는 것이다. 이러한 수를 골드바흐 수라고 한다. 또, 짝수를 두 소수의 합으로 나타내는 표현을 그 수의 골드바흐 파티션이라고 한다. 예를 들면, 4 = 2 + 2, 6 = 3 + 3, 8 = 3 + 5, 10 = 5 + 5, 12 = 5 + 7, 14 = 3 + 11, 14 = 7 + 7이다. 10000보다 작거나 같은 모든 짝수 n에 대한 골드바흐 파티션은 존재한다.\n",
    "\n",
    "2보다 큰 짝수 n이 주어졌을 때, n의 골드바흐 파티션을 출력하는 프로그램을 작성하시오. 만약 가능한 n의 골드바흐 파티션이 여러 가지인 경우에는 두 소수의 차이가 가장 작은 것을 출력한다.\n",
    "```"
   ]
  },
  {
   "cell_type": "code",
   "execution_count": null,
   "id": "cb682c9a",
   "metadata": {},
   "outputs": [],
   "source": [
    "def Goldbach():\n",
    "    check = [False, False] + [True] * 10000\n",
    "    \n",
    "    for i in range(2, 101):\n",
    "        if check[i] == True:\n",
    "            for j in range(i + i, 10001, i):\n",
    "                check[j] = False\n",
    "\n",
    "    T = int(input())\n",
    "    for _ in range(T):\n",
    "        n = int(input())\n",
    "\n",
    "        A = n // 2\n",
    "        B = A\n",
    "        for _ in range(10000):\n",
    "            if check[A] and check[B]:\n",
    "                print(A, B)\n",
    "                break\n",
    "            A -= 1\n",
    "            B += 1\n",
    "\n",
    "Goldbach()"
   ]
  },
  {
   "cell_type": "markdown",
   "id": "befb45ba",
   "metadata": {},
   "source": [
    "## 7. 직사각형에서 탈출\n",
    "### 한수는 지금 (x, y)에 있다. 직사각형은 각 변이 좌표축에 평행하고, 왼쪽 아래 꼭짓점은 (0, 0), 오른쪽 위 꼭짓점은 (w, h)에 있다. 직사각형의 경계선까지 가는 거리의 최솟값을 구하는 프로그램을 작성하시오."
   ]
  },
  {
   "cell_type": "code",
   "execution_count": null,
   "id": "a046fc87",
   "metadata": {},
   "outputs": [],
   "source": [
    "while True:\n",
    "    number = list(map(int, input().split()))\n",
    "    if number == [0, 0, 0]:\n",
    "        break\n",
    "    number.sort()\n",
    "\n",
    "    if pow(number[0],2) + pow(number[1],2) == pow(number[2], 2):\n",
    "        print(\"right\")\n",
    "    else:\n",
    "        print(\"wrong\")"
   ]
  },
  {
   "cell_type": "markdown",
   "id": "8a10a95b",
   "metadata": {},
   "source": [
    "## 8. 네 번째 점\n",
    "### 세 점이 주어졌을 때, 축에 평행한 직사각형을 만들기 위해서 필요한 네 번째 점을 찾는 프로그램을 작성하시오."
   ]
  },
  {
   "cell_type": "code",
   "execution_count": null,
   "id": "1eb7fc41",
   "metadata": {},
   "outputs": [],
   "source": [
    "x_nums = []\n",
    "y_nums = []\n",
    "for _ in range(3):\n",
    "    x, y = map(int, input().split())\n",
    "    x_nums.append(x)\n",
    "    y_nums.append(y)\n",
    "\n",
    "for i in range(3):\n",
    "    if x_nums.count(x_nums[i]) == 1:\n",
    "        x4 = x_nums[i]\n",
    "    if y_nums.count(y_nums[i]) == 1:\n",
    "        y4 = y_nums[i]\n",
    "print(x4, y4)"
   ]
  },
  {
   "cell_type": "markdown",
   "id": "633a7b79",
   "metadata": {},
   "source": [
    "## 9. 직각삼각형\n",
    "### 과거 이집트인들은 각 변들의 길이가 3, 4, 5인 삼각형이 직각 삼각형인것을 알아냈다. 주어진 세변의 길이로 삼각형이 직각인지 아닌지 구분하시오."
   ]
  },
  {
   "cell_type": "code",
   "execution_count": null,
   "id": "e48a3095",
   "metadata": {},
   "outputs": [],
   "source": [
    "while True :\n",
    "    nums = list(map(int, input().split()))\n",
    "    if sum(nums) == 0:\n",
    "        break  # 세 수가 0이면 break\n",
    "    max_num = max(nums)\n",
    "    nums.remove(max_num)  # 빗변의 길이는 직각삼각형 세변의 길이중 가장 길다.\n",
    "    if nums[0]**2 + nums[1]**2 == max_num**2:\n",
    "        print('right')\n",
    "    else:\n",
    "        print('wrong')"
   ]
  },
  {
   "cell_type": "markdown",
   "id": "c534156c",
   "metadata": {},
   "source": [
    "## 10. 택시 기하학\n",
    "```python\n",
    "19세기 독일 수학자 헤르만 민코프스키는 비유클리드 기하학 중 택시 기하학을 고안했다.\n",
    "\n",
    "택시 기하학에서 두 점 T1(x1,y1), T2(x2,y2) 사이의 거리는 다음과 같이 구할 수 있다.\n",
    "\n",
    "D(T1,T2) = |x1-x2| + |y1-y2|\n",
    "\n",
    "두 점 사이의 거리를 제외한 나머지 정의는 유클리드 기하학에서의 정의와 같다.\n",
    "\n",
    "따라서 택시 기하학에서 원의 정의는 유클리드 기하학에서 원의 정의와 같다.\n",
    "\n",
    "원: 평면 상의 어떤 점에서 거리가 일정한 점들의 집합\n",
    "\n",
    "반지름 R이 주어졌을 때, 유클리드 기하학에서 원의 넓이와, 택시 기하학에서 원의 넓이를 구하는 프로그램을 작성하시오.\n",
    "```"
   ]
  },
  {
   "cell_type": "markdown",
   "id": "abee7dc9",
   "metadata": {},
   "source": [
    "D(T1,T2) = |x1-x2| + |y1-y2|"
   ]
  },
  {
   "cell_type": "code",
   "execution_count": null,
   "id": "a1ec62da",
   "metadata": {},
   "outputs": [],
   "source": [
    "import math\n",
    "\n",
    "r = int(input())\n",
    "print(r*r*math.pi)  # 원의 넓이\n",
    "print(2*r*r)  # 택시기하학 원의 넓이"
   ]
  },
  {
   "cell_type": "markdown",
   "id": "ff57b2ad",
   "metadata": {},
   "source": [
    "## 11. 터렛\n",
    "```python\n",
    "조규현과 백승환은 터렛에 근무하는 직원이다. 하지만 워낙 존재감이 없어서 인구수는 차지하지 않는다. 다음은 조규현과 백승환의 사진이다.\n",
    "\n",
    "\n",
    "\n",
    "이석원은 조규현과 백승환에게 상대편 마린(류재명)의 위치를 계산하라는 명령을 내렸다. 조규현과 백승환은 각각 자신의 터렛 위치에서 현재 적까지의 거리를 계산했다.\n",
    "\n",
    "조규현의 좌표 (x1, y1)와 백승환의 좌표 (x2, y2)가 주어지고, 조규현이 계산한 류재명과의 거리 r1과 백승환이 계산한 류재명과의 거리 r2가 주어졌을 때, 류재명이 있을 수 있는 좌표의 수를 출력하는 프로그램을 작성하시오.\n",
    "```"
   ]
  }
 ],
 "metadata": {
  "kernelspec": {
   "display_name": "Python 3",
   "language": "python",
   "name": "python3"
  },
  "language_info": {
   "codemirror_mode": {
    "name": "ipython",
    "version": 3
   },
   "file_extension": ".py",
   "mimetype": "text/x-python",
   "name": "python",
   "nbconvert_exporter": "python",
   "pygments_lexer": "ipython3",
   "version": "3.8.8"
  }
 },
 "nbformat": 4,
 "nbformat_minor": 5
}
