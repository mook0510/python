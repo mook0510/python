{
 "cells": [
  {
   "cell_type": "markdown",
   "id": "e35c2fa6",
   "metadata": {},
   "source": [
    "# 동적 계획법 1"
   ]
  },
  {
   "cell_type": "markdown",
   "id": "47ffbf4f",
   "metadata": {},
   "source": [
    "## 1.피보나치 함수\n",
    "\n",
    "다음 소스는 N번째 피보나치 수를 구하는 C++ 함수이다.\n",
    "\n",
    "int fibonacci(int n) {\n",
    "    if (n == 0) {\n",
    "        printf(\"0\");\n",
    "        return 0;\n",
    "    } else if (n == 1) {\n",
    "        printf(\"1\");\n",
    "        return 1;\n",
    "    } else {\n",
    "        return fibonacci(n‐1) + fibonacci(n‐2);\n",
    "    }\n",
    "}\n",
    "fibonacci(3)을 호출하면 다음과 같은 일이 일어난다.\n",
    "\n",
    "fibonacci(3)은 fibonacci(2)와 fibonacci(1) (첫 번째 호출)을 호출한다.\n",
    "fibonacci(2)는 fibonacci(1) (두 번째 호출)과 fibonacci(0)을 호출한다.\n",
    "두 번째 호출한 fibonacci(1)은 1을 출력하고 1을 리턴한다.\n",
    "fibonacci(0)은 0을 출력하고, 0을 리턴한다.\n",
    "fibonacci(2)는 fibonacci(1)과 fibonacci(0)의 결과를 얻고, 1을 리턴한다.\n",
    "첫 번째 호출한 fibonacci(1)은 1을 출력하고, 1을 리턴한다.\n",
    "fibonacci(3)은 fibonacci(2)와 fibonacci(1)의 결과를 얻고, 2를 리턴한다.\n",
    "1은 2번 출력되고, 0은 1번 출력된다. N이 주어졌을 때, fibonacci(N)을 호출했을 때, 0과 1이 각각 몇 번 출력되는지 구하는 프로그램을 작성하시오."
   ]
  },
  {
   "cell_type": "code",
   "execution_count": 1,
   "id": "b513c7d1",
   "metadata": {},
   "outputs": [
    {
     "name": "stdout",
     "output_type": "stream",
     "text": [
      "3\n",
      "0\n",
      "1 0\n",
      "1\n",
      "0 1\n",
      "3\n",
      "1 2\n"
     ]
    }
   ],
   "source": [
    "a = int(input())\n",
    " \n",
    "zero = [1,0,1]\n",
    "one = [0,1,1]\n",
    " \n",
    "def cal(num):\n",
    "    length = len(zero)\n",
    "    if length <= num:\n",
    "        for i in range(length,num+1):\n",
    "            zero.append(zero[i-1]+zero[i-2])\n",
    "            one.append(one[i-1]+one[i-2])\n",
    "    print(\"%d %d\"%(zero[num],one[num]))\n",
    "\n",
    "for i in range(a):\n",
    "    k = int(input())\n",
    "    cal(k)"
   ]
  },
  {
   "cell_type": "code",
   "execution_count": null,
   "id": "1acd7ba7",
   "metadata": {},
   "outputs": [],
   "source": [
    "def fib(n):\n",
    "    _curr, _next = 0, 1\n",
    "    for _ in range(n):\n",
    "        _curr, _next = _next, _curr + _next\n",
    "    return _curr\n",
    "#반복문"
   ]
  },
  {
   "cell_type": "code",
   "execution_count": null,
   "id": "3809bfdf",
   "metadata": {},
   "outputs": [],
   "source": [
    "def fib(n):\n",
    "    if n == 0:\n",
    "        return 0\n",
    "    elif n == 1 or n == 2:\n",
    "        return 1\n",
    "    else:\n",
    "        return fib(n - 1) + fib(n - 2)\n",
    "#재귀함수"
   ]
  },
  {
   "cell_type": "markdown",
   "id": "a2fda3f3",
   "metadata": {},
   "source": [
    "## 2.신나는 함수 실행\n",
    "### 재귀 호출만 생각하면 신이 난다! 아닌가요?\n",
    "\n",
    "다음과 같은 재귀함수 w(a, b, c)가 있다.\n",
    "\n",
    "if a <= 0 or b <= 0 or c <= 0, then w(a, b, c) returns:\n",
    "    1\n",
    "\n",
    "if a > 20 or b > 20 or c > 20, then w(a, b, c) returns:\n",
    "    w(20, 20, 20)\n",
    "\n",
    "if a < b and b < c, then w(a, b, c) returns:\n",
    "    w(a, b, c-1) + w(a, b-1, c-1) - w(a, b-1, c)\n",
    "\n",
    "otherwise it returns:\n",
    "    w(a-1, b, c) + w(a-1, b-1, c) + w(a-1, b, c-1) - w(a-1, b-1, c-1)\n",
    "위의 함수를 구현하는 것은 매우 쉽다. 하지만, 그대로 구현하면 값을 구하는데 매우 오랜 시간이 걸린다. (예를 들면, a=15, b=15, c=15)\n",
    "\n",
    "a, b, c가 주어졌을 때, w(a, b, c)를 출력하는 프로그램을 작성하시오."
   ]
  },
  {
   "cell_type": "code",
   "execution_count": null,
   "id": "55023b9a",
   "metadata": {},
   "outputs": [],
   "source": [
    "import sys\n",
    "dp = [[[0]*21 for _ in range(21)] for _ in range(21)]\n",
    "\n",
    "def w(a, b, c):\n",
    "    if a <= 0 or b <= 0 or c <= 0:\n",
    "        return 1\n",
    "    if a > 20 or b > 20 or c > 20:\n",
    "        return w(20, 20, 20)\n",
    "\n",
    "    if dp[a][b][c]:\n",
    "        return dp[a][b][c]\n",
    "\n",
    "    if a < b < c:\n",
    "        dp[a][b][c] = w(a, b, c-1) + w(a, b-1, c-1) - w(a, b-1, c)\n",
    "        return dp[a][b][c]\n",
    "\n",
    "    dp[a][b][c] = w(a-1, b, c) + w(a-1, b-1, c) + w(a-1, b, c-1) - w(a-1, b-1, c-1)\n",
    "    return dp[a][b][c]\n",
    "\n",
    "while True:\n",
    "    a, b, c = map(int, sys.stdin.readline().rstrip().split())\n",
    "    if a == -1 and b == -1 and c == -1:\n",
    "        break\n",
    "    ans = w(a, b, c)\n",
    "    print(\"w(%d, %d, %d) = %d\" %(a, b, c, ans))"
   ]
  },
  {
   "cell_type": "code",
   "execution_count": null,
   "id": "e7c89273",
   "metadata": {},
   "outputs": [],
   "source": [
    "import sys \n",
    "input = sys.stdin.readline \n",
    "def w(a, b, c): \n",
    "    if a <= 0 or b<= 0 or c<=0: \n",
    "        return 1 \n",
    "    if a > 20 or b > 20 or c > 20:\n",
    "        return w(20, 20, 20) \n",
    "    if dp[a][b][c]: \n",
    "        return dp[a][b][c] \n",
    "    if a<b<c: dp[a][b][c] = w(a,b,c-1)+w(a,b-1,c-1)-w(a, b-1, c) \n",
    "        return dp[a][b][c] \n",
    "    dp[a][b][c] = w(a-1, b, c)+w(a-1,b-1,c)+w(a-1,b,c-1)-w(a-1,b-1,c-1) \n",
    "    return dp[a][b][c] dp = [[[0]*(21) for _ in range(21)] for _ in range(21)] \n",
    "# 0~20까지므로 \n",
    "while 1: \n",
    "    a, b, c = map(int, input().split()) \n",
    "    if a==-1 and b==-1 and c==-1: \n",
    "        break \n",
    "        print(f'w({a}, {b}, {c}) = {w(a,b,c)}')\n",
    "\n"
   ]
  },
  {
   "cell_type": "markdown",
   "id": "0a0a8f4d",
   "metadata": {},
   "source": [
    "## 3.01타일\n",
    "### 지원이에게 2진 수열을 가르쳐 주기 위해, 지원이 아버지는 그에게 타일들을 선물해주셨다. 그리고 이 각각의 타일들은 0 또는 1이 쓰여 있는 낱장의 타일들이다.\n",
    "\n",
    "어느 날 짓궂은 동주가 지원이의 공부를 방해하기 위해 0이 쓰여진 낱장의 타일들을 붙여서 한 쌍으로 이루어진 00 타일들을 만들었다. 결국 현재 1 하나만으로 이루어진 타일 또는 0타일을 두 개 붙인 한 쌍의 00타일들만이 남게 되었다.\n",
    "\n",
    "그러므로 지원이는 타일로 더 이상 크기가 N인 모든 2진 수열을 만들 수 없게 되었다. 예를 들어, N=1일 때 1만 만들 수 있고, N=2일 때는 00, 11을 만들 수 있다. (01, 10은 만들 수 없게 되었다.) 또한 N=4일 때는 0011, 0000, 1001, 1100, 1111 등 총 5개의 2진 수열을 만들 수 있다.\n",
    "\n",
    "우리의 목표는 N이 주어졌을 때 지원이가 만들 수 있는 모든 가짓수를 세는 것이다. 단 타일들은 무한히 많은 것으로 가정하자."
   ]
  },
  {
   "cell_type": "code",
   "execution_count": null,
   "id": "bb915334",
   "metadata": {},
   "outputs": [],
   "source": [
    "import sys\n",
    "input = sys.stdin.readline\n",
    "n = int(input())\n",
    "\n",
    "dp = [0] * 1000001\n",
    "\n",
    "dp[1] = 1\n",
    "dp[2] = 2\n",
    "\n",
    "for i in range(3, n + 1):\n",
    "    dp[i] = (dp[i-1] + dp[i-2]) % 15746\n",
    "    \n",
    "print(dp[n])"
   ]
  },
  {
   "cell_type": "markdown",
   "id": "26ab2041",
   "metadata": {},
   "source": [
    "## 4.파도반 수열\n",
    "### 오른쪽 그림과 같이 삼각형이 나선 모양으로 놓여져 있다. 첫 삼각형은 정삼각형으로 변의 길이는 1이다. 그 다음에는 다음과 같은 과정으로 정삼각형을 계속 추가한다. 나선에서 가장 긴 변의 길이를 k라 했을 때, 그 변에 길이가 k인 정삼각형을 추가한다.\n",
    "\n",
    "파도반 수열 P(N)은 나선에 있는 정삼각형의 변의 길이이다. P(1)부터 P(10)까지 첫 10개 숫자는 1, 1, 1, 2, 2, 3, 4, 5, 7, 9이다.\n",
    "\n",
    "N이 주어졌을 때, P(N)을 구하는 프로그램을 작성하시오."
   ]
  },
  {
   "cell_type": "code",
   "execution_count": null,
   "id": "198065da",
   "metadata": {},
   "outputs": [],
   "source": []
  },
  {
   "cell_type": "markdown",
   "id": "3da55fb8",
   "metadata": {},
   "source": [
    "## 5.RGB거리\n",
    "### RGB거리에는 집이 N개 있다. 거리는 선분으로 나타낼 수 있고, 1번 집부터 N번 집이 순서대로 있다.\n",
    "\n",
    "집은 빨강, 초록, 파랑 중 하나의 색으로 칠해야 한다. 각각의 집을 빨강, 초록, 파랑으로 칠하는 비용이 주어졌을 때, 아래 규칙을 만족하면서 모든 집을 칠하는 비용의 최솟값을 구해보자.\n",
    "\n",
    "1번 집의 색은 2번 집의 색과 같지 않아야 한다.\n",
    "N번 집의 색은 N-1번 집의 색과 같지 않아야 한다.\n",
    "i(2 ≤ i ≤ N-1)번 집의 색은 i-1번, i+1번 집의 색과 같지 않아야 한다."
   ]
  },
  {
   "cell_type": "code",
   "execution_count": null,
   "id": "822c40b3",
   "metadata": {},
   "outputs": [],
   "source": []
  },
  {
   "cell_type": "markdown",
   "id": "fefea450",
   "metadata": {},
   "source": [
    "## 6.정수 삼각형\n",
    "###         7\n",
    "      3   8\n",
    "    8   1   0\n",
    "  2   7   4   4\n",
    "4   5   2   6   5\n",
    "위 그림은 크기가 5인 정수 삼각형의 한 모습이다.\n",
    "\n",
    "맨 위층 7부터 시작해서 아래에 있는 수 중 하나를 선택하여 아래층으로 내려올 때, 이제까지 선택된 수의 합이 최대가 되는 경로를 구하는 프로그램을 작성하라. 아래층에 있는 수는 현재 층에서 선택된 수의 대각선 왼쪽 또는 대각선 오른쪽에 있는 것 중에서만 선택할 수 있다.\n",
    "\n",
    "삼각형의 크기는 1 이상 500 이하이다. 삼각형을 이루고 있는 각 수는 모두 정수이며, 범위는 0 이상 9999 이하이다."
   ]
  },
  {
   "cell_type": "code",
   "execution_count": null,
   "id": "6ce1a3ae",
   "metadata": {},
   "outputs": [],
   "source": []
  },
  {
   "cell_type": "markdown",
   "id": "5d7e7c69",
   "metadata": {},
   "source": [
    "## 7.계단 오르기\n",
    "### 계단 오르기 게임은 계단 아래 시작점부터 계단 꼭대기에 위치한 도착점까지 가는 게임이다. <그림 1>과 같이 각각의 계단에는 일정한 점수가 쓰여 있는데 계단을 밟으면 그 계단에 쓰여 있는 점수를 얻게 된다.\n",
    "\n",
    "\n",
    "\n",
    "<그림 1>\n",
    "\n",
    "예를 들어 <그림 2>와 같이 시작점에서부터 첫 번째, 두 번째, 네 번째, 여섯 번째 계단을 밟아 도착점에 도달하면 총 점수는 10 + 20 + 25 + 20 = 75점이 된다.\n",
    "\n",
    "\n",
    "\n",
    "<그림 2>\n",
    "\n",
    "계단 오르는 데는 다음과 같은 규칙이 있다.\n",
    "\n",
    "계단은 한 번에 한 계단씩 또는 두 계단씩 오를 수 있다. 즉, 한 계단을 밟으면서 이어서 다음 계단이나, 다음 다음 계단으로 오를 수 있다.\n",
    "연속된 세 개의 계단을 모두 밟아서는 안 된다. 단, 시작점은 계단에 포함되지 않는다.\n",
    "마지막 도착 계단은 반드시 밟아야 한다.\n",
    "따라서 첫 번째 계단을 밟고 이어 두 번째 계단이나, 세 번째 계단으로 오를 수 있다. 하지만, 첫 번째 계단을 밟고 이어 네 번째 계단으로 올라가거나, 첫 번째, 두 번째, 세 번째 계단을 연속해서 모두 밟을 수는 없다.\n",
    "\n",
    "각 계단에 쓰여 있는 점수가 주어질 때 이 게임에서 얻을 수 있는 총 점수의 최댓값을 구하는 프로그램을 작성하시오."
   ]
  },
  {
   "cell_type": "code",
   "execution_count": null,
   "id": "b8dadb90",
   "metadata": {},
   "outputs": [],
   "source": []
  },
  {
   "cell_type": "markdown",
   "id": "d08ea101",
   "metadata": {},
   "source": [
    "## 8.1로 만들기\n",
    "### 정수 X에 사용할 수 있는 연산은 다음과 같이 세 가지 이다.\n",
    "\n",
    "X가 3으로 나누어 떨어지면, 3으로 나눈다.\n",
    "X가 2로 나누어 떨어지면, 2로 나눈다.\n",
    "1을 뺀다.\n",
    "정수 N이 주어졌을 때, 위와 같은 연산 세 개를 적절히 사용해서 1을 만들려고 한다. 연산을 사용하는 횟수의 최솟값을 출력하시오."
   ]
  },
  {
   "cell_type": "code",
   "execution_count": null,
   "id": "1103c563",
   "metadata": {},
   "outputs": [],
   "source": []
  },
  {
   "cell_type": "markdown",
   "id": "5b8a0f86",
   "metadata": {},
   "source": [
    "## 9.쉬운 계단 수\n",
    "### 45656이란 수를 보자.\n",
    "\n",
    "이 수는 인접한 모든 자리의 차이가 1이다. 이런 수를 계단 수라고 한다.\n",
    "\n",
    "N이 주어질 때, 길이가 N인 계단 수가 총 몇 개 있는지 구해보자. 0으로 시작하는 수는 계단수가 아니다."
   ]
  },
  {
   "cell_type": "code",
   "execution_count": null,
   "id": "61a24c21",
   "metadata": {},
   "outputs": [],
   "source": []
  },
  {
   "cell_type": "markdown",
   "id": "4674d0c7",
   "metadata": {},
   "source": [
    "## 10.포도주 시식\n",
    "### 효주는 포도주 시식회에 갔다. 그 곳에 갔더니, 테이블 위에 다양한 포도주가 들어있는 포도주 잔이 일렬로 놓여 있었다. 효주는 포도주 시식을 하려고 하는데, 여기에는 다음과 같은 두 가지 규칙이 있다.\n",
    "\n",
    "포도주 잔을 선택하면 그 잔에 들어있는 포도주는 모두 마셔야 하고, 마신 후에는 원래 위치에 다시 놓아야 한다.\n",
    "연속으로 놓여 있는 3잔을 모두 마실 수는 없다.\n",
    "효주는 될 수 있는 대로 많은 양의 포도주를 맛보기 위해서 어떤 포도주 잔을 선택해야 할지 고민하고 있다. 1부터 n까지의 번호가 붙어 있는 n개의 포도주 잔이 순서대로 테이블 위에 놓여 있고, 각 포도주 잔에 들어있는 포도주의 양이 주어졌을 때, 효주를 도와 가장 많은 양의 포도주를 마실 수 있도록 하는 프로그램을 작성하시오. \n",
    "\n",
    "예를 들어 6개의 포도주 잔이 있고, 각각의 잔에 순서대로 6, 10, 13, 9, 8, 1 만큼의 포도주가 들어 있을 때, 첫 번째, 두 번째, 네 번째, 다섯 번째 포도주 잔을 선택하면 총 포도주 양이 33으로 최대로 마실 수 있다."
   ]
  },
  {
   "cell_type": "code",
   "execution_count": null,
   "id": "fd5f4fae",
   "metadata": {},
   "outputs": [],
   "source": []
  },
  {
   "cell_type": "markdown",
   "id": "7698abee",
   "metadata": {},
   "source": [
    "## 11.가장 긴 증가하는 부분 수열\n",
    "### 수열 A가 주어졌을 때, 가장 긴 증가하는 부분 수열을 구하는 프로그램을 작성하시오.\n",
    "\n",
    "예를 들어, 수열 A = {10, 20, 10, 30, 20, 50} 인 경우에 가장 긴 증가하는 부분 수열은 A = {10, 20, 10, 30, 20, 50} 이고, 길이는 4이다."
   ]
  },
  {
   "cell_type": "code",
   "execution_count": null,
   "id": "1758c3cb",
   "metadata": {},
   "outputs": [],
   "source": []
  },
  {
   "cell_type": "markdown",
   "id": "a282eac3",
   "metadata": {},
   "source": [
    "## 12.가장 긴 바이토닉 부분 수열\n",
    "### 수열 S가 어떤 수 Sk를 기준으로 S1 < S2 < ... Sk-1 < Sk > Sk+1 > ... SN-1 > SN을 만족한다면, 그 수열을 바이토닉 수열이라고 한다.\n",
    "\n",
    "예를 들어, {10, 20, 30, 25, 20}과 {10, 20, 30, 40}, {50, 40, 25, 10} 은 바이토닉 수열이지만,  {1, 2, 3, 2, 1, 2, 3, 2, 1}과 {10, 20, 30, 40, 20, 30} 은 바이토닉 수열이 아니다.\n",
    "\n",
    "수열 A가 주어졌을 때, 그 수열의 부분 수열 중 바이토닉 수열이면서 가장 긴 수열의 길이를 구하는 프로그램을 작성하시오."
   ]
  },
  {
   "cell_type": "code",
   "execution_count": null,
   "id": "29508df1",
   "metadata": {},
   "outputs": [],
   "source": []
  },
  {
   "cell_type": "markdown",
   "id": "900cb8a5",
   "metadata": {},
   "source": [
    "## 13.전깃줄\n",
    "### 두 전봇대 A와 B 사이에 하나 둘씩 전깃줄을 추가하다 보니 전깃줄이 서로 교차하는 경우가 발생하였다. 합선의 위험이 있어 이들 중 몇 개의 전깃줄을 없애 전깃줄이 교차하지 않도록 만들려고 한다.\n",
    "\n",
    "예를 들어, < 그림 1 >과 같이 전깃줄이 연결되어 있는 경우 A의 1번 위치와 B의 8번 위치를 잇는 전깃줄, A의 3번 위치와 B의 9번 위치를 잇는 전깃줄, A의 4번 위치와 B의 1번 위치를 잇는 전깃줄을 없애면 남아있는 모든 전깃줄이 서로 교차하지 않게 된다.\n",
    "\n",
    "\n",
    "\n",
    "< 그림 1 >\n",
    "\n",
    "전깃줄이 전봇대에 연결되는 위치는 전봇대 위에서부터 차례대로 번호가 매겨진다. 전깃줄의 개수와 전깃줄들이 두 전봇대에 연결되는 위치의 번호가 주어질 때, 남아있는 모든 전깃줄이 서로 교차하지 않게 하기 위해 없애야 하는 전깃줄의 최소 개수를 구하는 프로그램을 작성하시오."
   ]
  },
  {
   "cell_type": "code",
   "execution_count": null,
   "id": "063d0ab6",
   "metadata": {},
   "outputs": [],
   "source": []
  },
  {
   "cell_type": "markdown",
   "id": "c801ef64",
   "metadata": {},
   "source": [
    "## 14.LCS\n",
    "### LCS(Longest Common Subsequence, 최장 공통 부분 수열)문제는 두 수열이 주어졌을 때, 모두의 부분 수열이 되는 수열 중 가장 긴 것을 찾는 문제이다.\n",
    "\n",
    "예를 들어, ACAYKP와 CAPCAK의 LCS는 ACAK가 된다."
   ]
  },
  {
   "cell_type": "code",
   "execution_count": null,
   "id": "c52978fb",
   "metadata": {},
   "outputs": [],
   "source": []
  },
  {
   "cell_type": "markdown",
   "id": "31bf453c",
   "metadata": {},
   "source": [
    "## 15.연속합\n",
    "### n개의 정수로 이루어진 임의의 수열이 주어진다. 우리는 이 중 연속된 몇 개의 수를 선택해서 구할 수 있는 합 중 가장 큰 합을 구하려고 한다. 단, 수는 한 개 이상 선택해야 한다.\n",
    "\n",
    "예를 들어서 10, -4, 3, 1, 5, 6, -35, 12, 21, -1 이라는 수열이 주어졌다고 하자. 여기서 정답은 12+21인 33이 정답이 된다."
   ]
  },
  {
   "cell_type": "code",
   "execution_count": null,
   "id": "51fc98da",
   "metadata": {},
   "outputs": [],
   "source": []
  },
  {
   "cell_type": "markdown",
   "id": "b6b29246",
   "metadata": {},
   "source": [
    "## 16.평범한 배낭\n",
    "### 이 문제는 아주 평범한 배낭에 관한 문제이다.\n",
    "\n",
    "한 달 후면 국가의 부름을 받게 되는 준서는 여행을 가려고 한다. 세상과의 단절을 슬퍼하며 최대한 즐기기 위한 여행이기 때문에, 가지고 다닐 배낭 또한 최대한 가치 있게 싸려고 한다.\n",
    "\n",
    "준서가 여행에 필요하다고 생각하는 N개의 물건이 있다. 각 물건은 무게 W와 가치 V를 가지는데, 해당 물건을 배낭에 넣어서 가면 준서가 V만큼 즐길 수 있다. 아직 행군을 해본 적이 없는 준서는 최대 K만큼의 무게만을 넣을 수 있는 배낭만 들고 다닐 수 있다. 준서가 최대한 즐거운 여행을 하기 위해 배낭에 넣을 수 있는 물건들의 가치의 최댓값을 알려주자."
   ]
  },
  {
   "cell_type": "code",
   "execution_count": null,
   "id": "b617f248",
   "metadata": {},
   "outputs": [],
   "source": []
  }
 ],
 "metadata": {
  "kernelspec": {
   "display_name": "Python 3",
   "language": "python",
   "name": "python3"
  },
  "language_info": {
   "codemirror_mode": {
    "name": "ipython",
    "version": 3
   },
   "file_extension": ".py",
   "mimetype": "text/x-python",
   "name": "python",
   "nbconvert_exporter": "python",
   "pygments_lexer": "ipython3",
   "version": "3.8.8"
  }
 },
 "nbformat": 4,
 "nbformat_minor": 5
}
