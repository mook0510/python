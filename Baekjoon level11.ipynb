{
 "cells": [
  {
   "cell_type": "markdown",
   "id": "02b0cc70",
   "metadata": {},
   "source": [
    "# 정렬"
   ]
  },
  {
   "cell_type": "markdown",
   "id": "aa3fa9d6",
   "metadata": {},
   "source": [
    "## 1. 수 정렬하기\n",
    "### N개의 수가 주어졌을 때, 이를 오름차순으로 정렬하는 프로그램을 작성하시오."
   ]
  },
  {
   "cell_type": "code",
   "execution_count": 1,
   "id": "713846d1",
   "metadata": {},
   "outputs": [
    {
     "name": "stdout",
     "output_type": "stream",
     "text": [
      "5\n",
      "5\n",
      "2\n",
      "3\n",
      "4\n",
      "1\n",
      "1\n",
      "2\n",
      "3\n",
      "4\n",
      "5\n"
     ]
    }
   ],
   "source": [
    "x = int(input())\n",
    "num_list = []\n",
    "for i in range(x):\n",
    "    num_list.append(int(input()))\n",
    "num_list1 = sorted(num_list)\n",
    "for i in range(len(num_list)):\n",
    "    print(num_list1[i])"
   ]
  },
  {
   "cell_type": "markdown",
   "id": "cde8b3d7",
   "metadata": {},
   "source": [
    "## 2. 수 정렬하기 2\n",
    "### N개의 수가 주어졌을 때, 이를 오름차순으로 정렬하는 프로그램을 작성하시오."
   ]
  },
  {
   "cell_type": "code",
   "execution_count": null,
   "id": "2d164327",
   "metadata": {},
   "outputs": [],
   "source": [
    "import sys\n",
    "n = int(input())\n",
    "l = []\n",
    "for i in range(n):\n",
    "    l.append(int(sys.stdin.readline()))\n",
    "for i in sorted(l):\n",
    "    sys.stdout.write(str(i)+'\\n')"
   ]
  },
  {
   "cell_type": "markdown",
   "id": "634f7be3",
   "metadata": {},
   "source": [
    "## 3. 수 정렬하기 3\n",
    "### N개의 수가 주어졌을 때, 이를 오름차순으로 정렬하는 프로그램을 작성하시오."
   ]
  },
  {
   "cell_type": "code",
   "execution_count": null,
   "id": "20bb4283",
   "metadata": {},
   "outputs": [],
   "source": [
    "import sys\n",
    "\n",
    "n = int(sys.stdin.readline())\n",
    "num_list = [0] * 10001\n",
    "\n",
    "for _ in range(n):\n",
    "    num_list[int(sys.stdin.readline())] += 1\n",
    "\n",
    "for i in range(10001):\n",
    "    if num_list[i] != 0:\n",
    "        for j in range(num_list[i]):\n",
    "            print(i)"
   ]
  },
  {
   "cell_type": "markdown",
   "id": "15648ad3",
   "metadata": {},
   "source": [
    "## 4. 통계학\n",
    "###\n",
    "```\n",
    "수를 처리하는 것은 통계학에서 상당히 중요한 일이다. 통계학에서 N개의 수를 대표하는 기본 통계값에는 다음과 같은 것들이 있다. 단, N은 홀수라고 가정하자.\n",
    "\n",
    "산술평균 : N개의 수들의 합을 N으로 나눈 값\n",
    "중앙값 : N개의 수들을 증가하는 순서로 나열했을 경우 그 중앙에 위치하는 값\n",
    "최빈값 : N개의 수들 중 가장 많이 나타나는 값\n",
    "범위 : N개의 수들 중 최댓값과 최솟값의 차이\n",
    "N개의 수가 주어졌을 때, 네 가지 기본 통계값을 구하는 프로그램을 작성하시오.\n",
    "```"
   ]
  },
  {
   "cell_type": "code",
   "execution_count": 8,
   "id": "e634f2c4",
   "metadata": {},
   "outputs": [
    {
     "name": "stdout",
     "output_type": "stream",
     "text": [
      "Counter({'blue': 3, 'red': 2, 'green': 1})\n",
      "[('blue', 3), ('red', 2), ('green', 1)]\n",
      "[('blue', 3), ('red', 2)]\n"
     ]
    }
   ],
   "source": [
    "from collections import Counter\n",
    "\n",
    "colors = Counter(['blue', 'green', 'red', 'blue','red','blue'])\n",
    "\n",
    "print(colors)\n",
    "print(colors.most_common())\n",
    "print(colors.most_common(2))"
   ]
  },
  {
   "cell_type": "markdown",
   "id": "b8e43c20",
   "metadata": {},
   "source": [
    "## 5. 소트인사이드\n",
    "### 배열을 정렬하는 것은 쉽다. 수가 주어지면, 그 수의 각 자리수를 내림차순으로 정렬해보자."
   ]
  },
  {
   "cell_type": "code",
   "execution_count": null,
   "id": "858e0e25",
   "metadata": {},
   "outputs": [],
   "source": [
    "n = int(input())\n",
    " \n",
    "li = []\n",
    "for i in str(n):\n",
    "    li.append(int(i))\n",
    "    \n",
    "li.sort(reverse=True)\n",
    " \n",
    "for i in li:\n",
    "    print(i,end='')"
   ]
  },
  {
   "cell_type": "markdown",
   "id": "2de3054e",
   "metadata": {},
   "source": [
    "## 6. 좌표 정렬하기\n",
    "### 2차원 평면 위의 점 N개가 주어진다. 좌표를 x좌표가 증가하는 순으로, x좌표가 같으면 y좌표가 증가하는 순서로 정렬한 다음 출력하는 프로그램을 작성하시오."
   ]
  },
  {
   "cell_type": "code",
   "execution_count": null,
   "id": "acdceef6",
   "metadata": {},
   "outputs": [],
   "source": [
    "import sys\n",
    "input = sys.stdin.readline\n",
    "\n",
    "n = int(input())\n",
    "\n",
    "array = []\n",
    "for i in range(n):\n",
    "    [a, b] = map(int, input().split())\n",
    "    array.append([a, b])\n",
    "    \n",
    "s_array = sorted(array)\n",
    "\n",
    "for i in range(n):\n",
    "    print(s_array[i][0], s_array[i][1])"
   ]
  },
  {
   "cell_type": "markdown",
   "id": "9d5527b2",
   "metadata": {},
   "source": [
    "## 7. 좌표 정렬하기 2\n",
    "### 2차원 평면 위의 점 N개가 주어진다. 좌표를 y좌표가 증가하는 순으로, y좌표가 같으면 x좌표가 증가하는 순서로 정렬한 다음 출력하는 프로그램을 작성하시오."
   ]
  },
  {
   "cell_type": "code",
   "execution_count": null,
   "id": "e9e1408e",
   "metadata": {},
   "outputs": [],
   "source": [
    "num = int(input())\n",
    "a = []\n",
    "for i in range(num):\n",
    "    [x, y] = map(int, input().split())\n",
    "    rev = [y, x]\n",
    "    a.append(rev)\n",
    "b = sorted(a)\n",
    "for i in range(num):\n",
    "    print(b[i][1], b[i][0])"
   ]
  },
  {
   "cell_type": "markdown",
   "id": "e68e8f22",
   "metadata": {},
   "source": [
    "## 8. 단어 정렬\n",
    "### 알파벳 소문자로 이루어진 N개의 단어가 들어오면 아래와 같은 조건에 따라 정렬하는 프로그램을 작성하시오.\n",
    "1.길이가 짧은 것부터\n",
    "2.길이가 같으면 사전 순으로"
   ]
  },
  {
   "cell_type": "code",
   "execution_count": null,
   "id": "ea6383b4",
   "metadata": {},
   "outputs": [],
   "source": [
    "import sys\n",
    "\n",
    "n = int(sys.stdin.readline())\n",
    "lst = []\n",
    "\n",
    "for i in range(n):\n",
    "    lst.append(sys.stdin.readline().strip())\n",
    "set_lst = set(lst)\n",
    "lst = list(set_lst)\n",
    "lst.sort()\n",
    "lst.sort(key = len)\n",
    "\n",
    "for i in lst:\n",
    "    print(i)"
   ]
  },
  {
   "cell_type": "markdown",
   "id": "1db8e4c7",
   "metadata": {},
   "source": [
    "## 9. 나이순 정렬\n",
    "### 온라인 저지에 가입한 사람들의 나이와 이름이 가입한 순서대로 주어진다. 이때, 회원들을 나이가 증가하는 순으로, 나이가 같으면 먼저 가입한 사람이 앞에 오는 순서로 정렬하는 프로그램을 작성하시오."
   ]
  },
  {
   "cell_type": "code",
   "execution_count": null,
   "id": "e1b9ba4e",
   "metadata": {},
   "outputs": [],
   "source": [
    "n_members = int(input())\n",
    "\n",
    "member_list = []\n",
    "for _ in range(n_members):\n",
    "    (x,y) = input().split()\n",
    "    member_list.append((int(x),y))\n",
    "\n",
    "\n",
    "sorted_list = sorted(member_list,key=lambda x: x[0])\n",
    "\n",
    "for i in sorted_list:\n",
    "    print(i[0], i[1])  "
   ]
  },
  {
   "cell_type": "markdown",
   "id": "427ba09b",
   "metadata": {},
   "source": [
    "## 10. 좌표 압축\n",
    "### 수직선 위에 N개의 좌표 X1, X2, ..., XN이 있다. 이 좌표에 좌표 압축을 적용하려고 한다.\n",
    "Xi를 좌표 압축한 결과 X'i의 값은 Xi > Xj를 만족하는 서로 다른 좌표의 개수와 같아야 한다.\n",
    "X1, X2, ..., XN에 좌표 압축을 적용한 결과 X'1, X'2, ..., X'N를 출력해보자."
   ]
  },
  {
   "cell_type": "code",
   "execution_count": null,
   "id": "feff9284",
   "metadata": {},
   "outputs": [],
   "source": [
    "import sys \n",
    "N = int(sys.stdin.readline()) \n",
    "arr = list(map(int,sys.stdin.readline().split())) \n",
    "arr2 = [] \n",
    "\n",
    "arr2 = list(sorted(set(arr))) \n",
    "dic = {arr2[i]:i for i in range (len(arr2))} \n",
    "\n",
    "for i in arr: \n",
    "    print(dic[i],end=' ')"
   ]
  }
 ],
 "metadata": {
  "kernelspec": {
   "display_name": "Python 3",
   "language": "python",
   "name": "python3"
  },
  "language_info": {
   "codemirror_mode": {
    "name": "ipython",
    "version": 3
   },
   "file_extension": ".py",
   "mimetype": "text/x-python",
   "name": "python",
   "nbconvert_exporter": "python",
   "pygments_lexer": "ipython3",
   "version": "3.8.8"
  }
 },
 "nbformat": 4,
 "nbformat_minor": 5
}
