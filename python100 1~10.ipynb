{
 "cells": [
  {
   "cell_type": "markdown",
   "id": "67880201",
   "metadata": {},
   "source": [
    "### 문제1 : 리스트의 삭제"
   ]
  },
  {
   "cell_type": "code",
   "execution_count": 13,
   "id": "2411543a",
   "metadata": {},
   "outputs": [
    {
     "name": "stdout",
     "output_type": "stream",
     "text": [
      "[100, 200, 300]\n"
     ]
    }
   ],
   "source": [
    "nums = [100, 200, 300, 400, 500]\n",
    "nums.remove(400)\n",
    "nums.remove(500)\n",
    "print(nums)"
   ]
  },
  {
   "cell_type": "markdown",
   "id": "336ccf6f",
   "metadata": {},
   "source": [
    "### 문제2 : 리스트의 내장함수"
   ]
  },
  {
   "cell_type": "code",
   "execution_count": 22,
   "id": "6ed90366",
   "metadata": {},
   "outputs": [
    {
     "name": "stdout",
     "output_type": "stream",
     "text": [
      "[200, 100, 10000, 300]\n"
     ]
    }
   ],
   "source": [
    "l = [200, 100, 300]\n",
    "l.insert(2, 10000)\n",
    "print(l)"
   ]
  },
  {
   "cell_type": "markdown",
   "id": "bc6411d5",
   "metadata": {},
   "source": [
    "### 문제3 : 변수의 타입"
   ]
  },
  {
   "cell_type": "code",
   "execution_count": 23,
   "id": "f9cc6174",
   "metadata": {},
   "outputs": [
    {
     "name": "stdout",
     "output_type": "stream",
     "text": [
      "<class 'list'>\n"
     ]
    }
   ],
   "source": [
    "l = [100, 200, 300]\n",
    "print(type(l))"
   ]
  },
  {
   "cell_type": "markdown",
   "id": "1767d45d",
   "metadata": {},
   "source": [
    "### 문제4 : 변수의 타입2"
   ]
  },
  {
   "cell_type": "markdown",
   "id": "300b355c",
   "metadata": {},
   "source": [
    "3)  입력 : a = 'p',   출력 : class 'char'"
   ]
  },
  {
   "cell_type": "markdown",
   "id": "2a60852a",
   "metadata": {},
   "source": [
    "### 문제5 : for문 계산"
   ]
  },
  {
   "cell_type": "code",
   "execution_count": 24,
   "id": "e7523a43",
   "metadata": {},
   "outputs": [
    {
     "name": "stdout",
     "output_type": "stream",
     "text": [
      "16\n"
     ]
    }
   ],
   "source": [
    "a = 10\n",
    "b = 2\n",
    "for i in range(1, 5, 2):\n",
    "    a += i\n",
    "\n",
    "print(a+b)"
   ]
  },
  {
   "cell_type": "markdown",
   "id": "ac20e4b9",
   "metadata": {},
   "source": [
    "### 문제6 : False"
   ]
  },
  {
   "cell_type": "markdown",
   "id": "1acc11d0",
   "metadata": {},
   "source": [
    "2)  1"
   ]
  },
  {
   "cell_type": "markdown",
   "id": "c56554be",
   "metadata": {},
   "source": [
    "### 문제7 : 변수명"
   ]
  },
  {
   "cell_type": "markdown",
   "id": "5bc3481f",
   "metadata": {},
   "source": [
    "```python\n",
    "3)  as\n",
    "5)  1age\n",
    "->3)as는 예약어이다. 5) 문자부터 시작해야 하며 숫자부터 시작하면 안된다.\n",
    "```"
   ]
  },
  {
   "cell_type": "markdown",
   "id": "1b9766b4",
   "metadata": {},
   "source": [
    "### 문제8 : 딕셔너리 키 이름 중복"
   ]
  },
  {
   "cell_type": "code",
   "execution_count": 27,
   "id": "72466da7",
   "metadata": {},
   "outputs": [
    {
     "name": "stdout",
     "output_type": "stream",
     "text": [
      "84\n"
     ]
    }
   ],
   "source": [
    "d = {'height':180,'weight':78,'weight':84,'temparture':36,'eyesight':1}\n",
    "print(d['weight'])"
   ]
  },
  {
   "cell_type": "markdown",
   "id": "0a2e43bd",
   "metadata": {},
   "source": [
    "### *문제9 : sep과 end를활용한 출력방법"
   ]
  },
  {
   "cell_type": "code",
   "execution_count": 34,
   "id": "ca8da6eb",
   "metadata": {},
   "outputs": [
    {
     "name": "stdout",
     "output_type": "stream",
     "text": [
      "2019/04/26 11:34:27\n"
     ]
    }
   ],
   "source": [
    "year = '2019'\n",
    "month = '04'\n",
    "day = '26'\n",
    "hour = '11'\n",
    "minute = '34'\n",
    "second = '27'\n",
    "\n",
    "print(year, month, day, sep = ('/'), end = (' '))\n",
    "print(hour, minute, second, sep = (':'))"
   ]
  },
  {
   "cell_type": "markdown",
   "id": "ef6a34fe",
   "metadata": {},
   "source": [
    "### 문제10 : 별 찍기"
   ]
  },
  {
   "cell_type": "code",
   "execution_count": 26,
   "id": "02cf8e57",
   "metadata": {},
   "outputs": [
    {
     "name": "stdout",
     "output_type": "stream",
     "text": [
      "      *\n",
      "     ***\n",
      "    *****\n",
      "   *******\n",
      "  *********\n",
      " ***********\n"
     ]
    }
   ],
   "source": [
    "for i in range(1, 7):\n",
    "    for j in range(7-i):\n",
    "        print(\" \", end=\"\")\n",
    "    for j in range(2*i-1):\n",
    "        print(\"*\", end=\"\")\n",
    "    print()"
   ]
  }
 ],
 "metadata": {
  "kernelspec": {
   "display_name": "Python 3",
   "language": "python",
   "name": "python3"
  },
  "language_info": {
   "codemirror_mode": {
    "name": "ipython",
    "version": 3
   },
   "file_extension": ".py",
   "mimetype": "text/x-python",
   "name": "python",
   "nbconvert_exporter": "python",
   "pygments_lexer": "ipython3",
   "version": "3.8.8"
  }
 },
 "nbformat": 4,
 "nbformat_minor": 5
}
