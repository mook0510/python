{
 "cells": [
  {
   "cell_type": "markdown",
   "id": "09c52d34",
   "metadata": {},
   "source": [
    "### 문제51 : merge sort를 만들어보자"
   ]
  },
  {
   "cell_type": "code",
   "execution_count": 1,
   "id": "ac304863",
   "metadata": {},
   "outputs": [
    {
     "ename": "SyntaxError",
     "evalue": "invalid syntax (<ipython-input-1-70ffcf94cbd6>, line 12)",
     "output_type": "error",
     "traceback": [
      "\u001b[1;36m  File \u001b[1;32m\"<ipython-input-1-70ffcf94cbd6>\"\u001b[1;36m, line \u001b[1;32m12\u001b[0m\n\u001b[1;33m    if (#빈칸을 채워주세요):\u001b[0m\n\u001b[1;37m    ^\u001b[0m\n\u001b[1;31mSyntaxError\u001b[0m\u001b[1;31m:\u001b[0m invalid syntax\n"
     ]
    }
   ],
   "source": [
    "#병합 정렬\n",
    "def 병합정렬(입력리스트):\n",
    "    입력리스트길이 = len(입력리스트)\n",
    "    if 입력리스트길이 <= 1:\n",
    "        return 입력리스트\n",
    "    중간값 = 입력리스트길이 // 2\n",
    "    그룹_하나 = 병합정렬(입력리스트[:중간값])\n",
    "    그룹_둘 = 병합정렬(입력리스트[중간값:])\n",
    "    결과값 = []\n",
    "\n",
    "    while (#빈칸을 채워주세요) and (#빈칸을 채워주세요) :\n",
    "        if (#빈칸을 채워주세요):\n",
    "            결과값.append(그룹_하나.pop(0))\n",
    "        else:\n",
    "            결과값.append(그룹_둘.pop(0))\n",
    "\n",
    "    while 그룹_하나:\n",
    "        결과값.append(그룹_하나.pop(0))\n",
    "    while 그룹_둘:\n",
    "        결과값.append(그룹_둘.pop(0))\n",
    "    return 결과값\n",
    "\n",
    "주어진리스트 = [180, 145, 165, 45, 170, 175, 173, 171]\n",
    "주어진리스트 = []\n",
    "\n",
    "print(병합정렬(주어진리스트))"
   ]
  },
  {
   "cell_type": "markdown",
   "id": "eb60d42a",
   "metadata": {},
   "source": [
    "### 문제52 : quick sort"
   ]
  },
  {
   "cell_type": "code",
   "execution_count": null,
   "id": "da93557f",
   "metadata": {},
   "outputs": [],
   "source": [
    "def 퀵정렬(입력리스트):\n",
    "    입력리스트의길이 = len(입력리스트)\n",
    "    if 입력리스트의길이 <= 1:\n",
    "        return 입력리스트\n",
    "    기준값 = 입력리스트.pop(입력리스트의길이//2)\n",
    "    그룹_하나 = []\n",
    "    그룹_둘 = []\n",
    "    \n",
    "    for i in range(입력리스트의길이-1):\n",
    "        if #내용을 채워주세요:\n",
    "            그룹_하나.append(입력리스트[i])\n",
    "        else:\n",
    "            그룹_둘.append(입력리스트[i])\n",
    "    return #내용을 채워주세요\n",
    "\n",
    "주어진리스트 = input().split(' ')\n",
    "주어진리스트 =\n",
    "\n",
    "print(퀵정렬(주어진리스트))"
   ]
  },
  {
   "cell_type": "markdown",
   "id": "b8ff4334",
   "metadata": {},
   "source": [
    "### 문제53 : 괄호 문자열"
   ]
  },
  {
   "cell_type": "code",
   "execution_count": 2,
   "id": "b40f3d6d",
   "metadata": {},
   "outputs": [
    {
     "name": "stdout",
     "output_type": "stream",
     "text": [
      "()())\n",
      "NO\n"
     ]
    }
   ],
   "source": [
    "def math(e):\n",
    "    if e.count('(') != e.count(')'):\n",
    "        return False\n",
    "    괄호 = []\n",
    "    for i in e:\n",
    "        if i == '(':\n",
    "            괄호.append('(')\n",
    "        if i == ')':\n",
    "            if len(괄호) == 0:\n",
    "                return False\n",
    "            괄호.pop()\n",
    "    return True\n",
    "\n",
    "n = input()\n",
    "if math(n) == True:\n",
    "    print(\"YES\")\n",
    "else:\n",
    "    print(\"NO\")"
   ]
  },
  {
   "cell_type": "markdown",
   "id": "4100efac",
   "metadata": {},
   "source": [
    "### 문제54 : 연속되는 수"
   ]
  },
  {
   "cell_type": "code",
   "execution_count": 4,
   "id": "8694244e",
   "metadata": {},
   "outputs": [
    {
     "ename": "SyntaxError",
     "evalue": "invalid syntax (<ipython-input-4-60b98962f409>, line 1)",
     "output_type": "error",
     "traceback": [
      "\u001b[1;36m  File \u001b[1;32m\"<ipython-input-4-60b98962f409>\"\u001b[1;36m, line \u001b[1;32m1\u001b[0m\n\u001b[1;33m    **입력1**\u001b[0m\n\u001b[1;37m    ^\u001b[0m\n\u001b[1;31mSyntaxError\u001b[0m\u001b[1;31m:\u001b[0m invalid syntax\n"
     ]
    }
   ],
   "source": [
    "**입력1**\n",
    "1 2 4 3 5\n",
    "\n",
    "**출력1**\n",
    "YES\n",
    "\n",
    "**입력2**\n",
    "1 4 2 6 3\n",
    "\n",
    "**출력2**\n",
    "NO"
   ]
  },
  {
   "cell_type": "code",
   "execution_count": null,
   "id": "c04aa0da",
   "metadata": {
    "scrolled": true
   },
   "outputs": [],
   "source": [
    "user_input = input().split(' ')\n",
    "user_input = [int(i) for i in user_input]\n",
    "\n",
    "def sol(l):\n",
    "    l = sorted(l)\n",
    "    for i in range(len(l) - 1):\n",
    "        if l[i]+1 != l[i+1]:\n",
    "            return 'NO'\n",
    "    return 'YES'\n",
    "\n",
    "print(sol(user_input))"
   ]
  },
  {
   "cell_type": "markdown",
   "id": "6a0fa8ab",
   "metadata": {},
   "source": [
    "### 문제55 : 하노이의 탑"
   ]
  },
  {
   "cell_type": "code",
   "execution_count": null,
   "id": "91cb3d3b",
   "metadata": {},
   "outputs": [],
   "source": [
    "원판의이동경로 = []\n",
    "def 하노이(원반의수, 시작기둥, 목표기둥, 보조기둥):\n",
    "    #원판이 한개일 때에는 옮기면 됩니다.\n",
    "    if 원반의수 == 1:\n",
    "        원판의이동경로.append([시작기둥, 목표기둥]) \n",
    "        return None\n",
    "    #원반의 n-1개를 경유기둥으로 옮기고\n",
    "    하노이(#내용을 채워주세요.)\n",
    "    #가장 큰 원반은 목표기둥으로\n",
    "    원판의이동경로.append(#내용을 채워주세요.) \n",
    "    #경유기둥과 시작기둥을 바꿉니다!\n",
    "    하노이(#내용을 채워주세요.)\n",
    "\n",
    "user_input = int(input())\n",
    "하노이(user_input,'A','C','B')\n",
    "\n",
    "print(len(원판의이동경로))"
   ]
  },
  {
   "cell_type": "code",
   "execution_count": 3,
   "id": "1a812e07",
   "metadata": {},
   "outputs": [
    {
     "name": "stdout",
     "output_type": "stream",
     "text": [
      "[['A', 'C'], ['A', 'B'], ['C', 'B'], ['A', 'C'], ['B', 'A'], ['B', 'C'], ['A', 'C']]\n",
      "7\n"
     ]
    }
   ],
   "source": [
    "원판의이동경로 = []\n",
    "def 하노이(원반의수, 시작기둥, 목표기둥, 보조기둥):\n",
    "    #원판이 한개일 때에는 옮기면 됩니다.\n",
    "    if 원반의수 == 1:\n",
    "        원판의이동경로.append([시작기둥, 목표기둥]) \n",
    "        return None\n",
    "\n",
    "    #원반의 n-1개를 경유기둥으로 옮기고\n",
    "    하노이(원반의수-1, 시작기둥, 보조기둥, 목표기둥)\n",
    "    #가장 큰 원반은 목표기둥으로\n",
    "    원판의이동경로.append([시작기둥, 목표기둥]) \n",
    "    #경유기둥과 시작기둥을 바꿉니다!\n",
    "    하노이(원반의수-1, 보조기둥, 목표기둥, 시작기둥)\n",
    "\n",
    "하노이(3,'A','C','B')\n",
    "print(원판의이동경로)\n",
    "print(len(원판의이동경로))"
   ]
  },
  {
   "cell_type": "markdown",
   "id": "027b414a",
   "metadata": {},
   "source": [
    "### 문제56 : 리스트의 함수 응용"
   ]
  },
  {
   "cell_type": "code",
   "execution_count": null,
   "id": "32908d1d",
   "metadata": {},
   "outputs": [],
   "source": [
    "**데이터**\n",
    "nationWidth = {\n",
    "     'korea': 220877,\n",
    "     'Rusia': 17098242,\n",
    "     'China': 9596961,\n",
    "     'France': 543965,\n",
    "     'Japan': 377915,\n",
    "     'England' : 242900 }\n",
    "\n",
    "**출력**\n",
    "England 22023"
   ]
  },
  {
   "cell_type": "code",
   "execution_count": 4,
   "id": "98bfd619",
   "metadata": {},
   "outputs": [
    {
     "name": "stdout",
     "output_type": "stream",
     "text": [
      "England 22023\n"
     ]
    }
   ],
   "source": [
    "nationWidth = {\n",
    "    'korea': 220877, \n",
    "    'Rusia': 17098242, \n",
    "    'China': 9596961, \n",
    "    'France': 543965, \n",
    "    'Japan': 377915,\n",
    "    'England' : 242900,\n",
    "}\n",
    "\n",
    "w = nationWidth['korea']\n",
    "nationWidth.pop('korea')\n",
    "l = list(nationWidth.items())\n",
    "gap = max(nationWidth.values())\n",
    "item = 0\n",
    "\n",
    "for i in l:\n",
    "    if gap > abs(i[1] - w):\n",
    "        gap = abs(i[1] - w)\n",
    "        item = i\n",
    "print(item[0],item[1]-220877)"
   ]
  },
  {
   "cell_type": "markdown",
   "id": "916971ce",
   "metadata": {},
   "source": [
    "### 문제57 : 내장함수 응용하기"
   ]
  },
  {
   "cell_type": "code",
   "execution_count": 5,
   "id": "96d76fce",
   "metadata": {},
   "outputs": [
    {
     "name": "stdout",
     "output_type": "stream",
     "text": [
      "301\n"
     ]
    }
   ],
   "source": [
    "def count(n):\n",
    "    countN = str(list(range(n+1))).count('1')\n",
    "    return countN\n",
    "\n",
    "print(count(1000))"
   ]
  },
  {
   "cell_type": "code",
   "execution_count": 34,
   "id": "e9eea2de",
   "metadata": {},
   "outputs": [
    {
     "name": "stdout",
     "output_type": "stream",
     "text": [
      "4001\n"
     ]
    }
   ],
   "source": [
    "s = 0\n",
    "for i in range(1, 10001):\n",
    "    s += str(i).count(\"1\")\n",
    "print(s)"
   ]
  },
  {
   "cell_type": "markdown",
   "id": "5d089608",
   "metadata": {},
   "source": [
    "### (유일하게 할만한 문제)문제58 : 콤마 찍기"
   ]
  },
  {
   "cell_type": "code",
   "execution_count": 6,
   "id": "f6f6ebc4",
   "metadata": {},
   "outputs": [
    {
     "name": "stdout",
     "output_type": "stream",
     "text": [
      "10000000000000000000\n",
      "10,000,000,000,000,000,000\n"
     ]
    }
   ],
   "source": [
    "n = int(input())\n",
    "\n",
    "result = format(n, ',')\n",
    "print(result)"
   ]
  },
  {
   "cell_type": "markdown",
   "id": "3562b41a",
   "metadata": {},
   "source": [
    "### 문제59 : 빈칸채우기"
   ]
  },
  {
   "cell_type": "code",
   "execution_count": 7,
   "id": "f58e2db2",
   "metadata": {},
   "outputs": [
    {
     "name": "stdout",
     "output_type": "stream",
     "text": [
      "hi\n",
      "========================hi========================\n"
     ]
    }
   ],
   "source": [
    "user_input = input()\n",
    "print(\"{0:=^50}\".format(user_input))"
   ]
  },
  {
   "cell_type": "markdown",
   "id": "be446803",
   "metadata": {},
   "source": [
    "### 문제60 : enumerate"
   ]
  },
  {
   "cell_type": "code",
   "execution_count": 8,
   "id": "5231e454",
   "metadata": {},
   "outputs": [
    {
     "ename": "SyntaxError",
     "evalue": "invalid syntax (<ipython-input-8-0cd4862d1455>, line 1)",
     "output_type": "error",
     "traceback": [
      "\u001b[1;36m  File \u001b[1;32m\"<ipython-input-8-0cd4862d1455>\"\u001b[1;36m, line \u001b[1;32m1\u001b[0m\n\u001b[1;33m    ```python\u001b[0m\n\u001b[1;37m    ^\u001b[0m\n\u001b[1;31mSyntaxError\u001b[0m\u001b[1;31m:\u001b[0m invalid syntax\n"
     ]
    }
   ],
   "source": [
    "```python\n",
    "**데이터**\n",
    "student = ['강은지','김유정','박현서','최성훈','홍유진','박지호','권윤일','김채리','한지호','김진이','김민호','강채연']\n",
    "\n",
    "**출력**\n",
    "번호: 1, 이름: 강은지\n",
    "번호: 2, 이름: 강채연\n",
    "번호: 3, 이름: 권윤일\n",
    "번호: 4, 이름: 김민호\n",
    "번호: 5, 이름: 김유정\n",
    "번호: 6, 이름: 김진이\n",
    "번호: 7, 이름: 김채리\n",
    "번호: 8, 이름: 박지호\n",
    "번호: 9, 이름: 박현서\n",
    "번호: 10, 이름: 최성훈\n",
    "번호: 11, 이름: 한지호\n",
    "번호: 12, 이름: 홍유진\n",
    "```"
   ]
  },
  {
   "cell_type": "code",
   "execution_count": 9,
   "id": "1e7d99c7",
   "metadata": {},
   "outputs": [
    {
     "ename": "NameError",
     "evalue": "name 'students' is not defined",
     "output_type": "error",
     "traceback": [
      "\u001b[1;31m---------------------------------------------------------------------------\u001b[0m",
      "\u001b[1;31mNameError\u001b[0m                                 Traceback (most recent call last)",
      "\u001b[1;32m<ipython-input-9-72ac76e803c8>\u001b[0m in \u001b[0;36m<module>\u001b[1;34m\u001b[0m\n\u001b[1;32m----> 1\u001b[1;33m \u001b[0mstudents\u001b[0m \u001b[1;33m=\u001b[0m \u001b[0msorted\u001b[0m\u001b[1;33m(\u001b[0m\u001b[0mstudents\u001b[0m\u001b[1;33m)\u001b[0m\u001b[1;33m\u001b[0m\u001b[1;33m\u001b[0m\u001b[0m\n\u001b[0m\u001b[0;32m      2\u001b[0m \u001b[1;33m\u001b[0m\u001b[0m\n\u001b[0;32m      3\u001b[0m \u001b[1;32mfor\u001b[0m \u001b[0mnumber\u001b[0m\u001b[1;33m,\u001b[0m \u001b[0mname\u001b[0m \u001b[1;32min\u001b[0m \u001b[0menumerate\u001b[0m\u001b[1;33m(\u001b[0m\u001b[0mstudents\u001b[0m\u001b[1;33m)\u001b[0m\u001b[1;33m:\u001b[0m\u001b[1;33m\u001b[0m\u001b[1;33m\u001b[0m\u001b[0m\n\u001b[0;32m      4\u001b[0m     \u001b[0mprint\u001b[0m\u001b[1;33m(\u001b[0m\u001b[1;34m\"번호: {}, 이름: {}\"\u001b[0m\u001b[1;33m.\u001b[0m\u001b[0mformat\u001b[0m\u001b[1;33m(\u001b[0m\u001b[0mnumber\u001b[0m\u001b[1;33m+\u001b[0m\u001b[1;36m1\u001b[0m\u001b[1;33m,\u001b[0m \u001b[0mname\u001b[0m\u001b[1;33m)\u001b[0m\u001b[1;33m)\u001b[0m\u001b[1;33m\u001b[0m\u001b[1;33m\u001b[0m\u001b[0m\n",
      "\u001b[1;31mNameError\u001b[0m: name 'students' is not defined"
     ]
    }
   ],
   "source": [
    "students = sorted(students)\n",
    "\n",
    "for number, name in enumerate(students):\n",
    "    print(\"번호: {}, 이름: {}\".format(number+1, name))"
   ]
  },
  {
   "cell_type": "markdown",
   "id": "dac70b10",
   "metadata": {},
   "source": [
    "### 문제61 : 문자열 압축하기"
   ]
  },
  {
   "cell_type": "markdown",
   "id": "82b5dc03",
   "metadata": {},
   "source": [
    "```python\n",
    "**입력**\n",
    "aaabbbbcdddd\n",
    "\n",
    "**출력**\n",
    "a3b4c1d4\n",
    "```"
   ]
  },
  {
   "cell_type": "code",
   "execution_count": null,
   "id": "b479482a",
   "metadata": {},
   "outputs": [],
   "source": [
    "user_input = input()\n",
    "s = ''\n",
    "storeString = user_input[0]\n",
    "count = 0\n",
    "for i in user_input:\n",
    "    if i == storeString:\n",
    "        count += 1\n",
    "    else:\n",
    "        s += str(count) + storeString\n",
    "        storeString = i\n",
    "        count = 1\n",
    "s += str(count) + storeString\n",
    "print(s)"
   ]
  },
  {
   "cell_type": "code",
   "execution_count": null,
   "id": "b2e74515",
   "metadata": {},
   "outputs": [],
   "source": [
    "import re\n",
    "\n",
    "input_data = 'aaabbccccccasss'\n",
    "rule = re.compile('[a-c]+')\n",
    "\n",
    "one = re.findall('b', input_data)\n",
    "two = re.findall(rule, input_data)\n",
    "three = re.findall('(\\\\w)(\\\\1*)', input_data)\n",
    "\n",
    "print(one)\n",
    "print(two)\n",
    "print(three)\n",
    "\n",
    "#답2 - 풀이\n",
    "\n",
    "import re\n",
    "\n",
    "input_data = 'aaabbccccccasss'\n",
    "rule = re.compile('[a-c]+')\n",
    "\n",
    "one = re.findall('b', input_data)\n",
    "two = re.findall(rule, input_data)\n",
    "three = re.findall('(\\\\w)(\\\\1*)', input_data)\n",
    "\n",
    "print(one)\n",
    "print(two)\n",
    "print(three)\n",
    "\n",
    "s = ''\n",
    "for i, j in three:\n",
    "    s += str(len(j)+1)+i\n",
    "print(s)"
   ]
  },
  {
   "cell_type": "markdown",
   "id": "82f4007e",
   "metadata": {},
   "source": [
    "### 문제62 : 20190923출력하기"
   ]
  },
  {
   "cell_type": "code",
   "execution_count": 11,
   "id": "2f7f1c19",
   "metadata": {},
   "outputs": [
    {
     "name": "stdout",
     "output_type": "stream",
     "text": [
      "20190923\n"
     ]
    }
   ],
   "source": [
    "string='aacddddddddd'\n",
    "a=string.count('a') #2\n",
    "b=string.count('b') #0\n",
    "c=string.count('c') #1\n",
    "d=string.count('d') #9\n",
    "print(int(str(a)+str(b)+str(c)+str(d)+str(b)+str(d)+str(a)+str(a+1)))"
   ]
  },
  {
   "cell_type": "markdown",
   "id": "e70698a0",
   "metadata": {},
   "source": [
    "### 문제63 : 친해지고 싶어"
   ]
  },
  {
   "cell_type": "markdown",
   "id": "f71382f7",
   "metadata": {},
   "source": [
    "```python\n",
    "**입력 - 입력은 한글 혹은 영어로 입력됩니다.**\n",
    "복잡한 세상 편하게 살자\n",
    "\n",
    "**출력 - 띄어쓰기를 기준으로 하여 짧은 형태로 출력합니다.**\n",
    "복세편살\n",
    "```"
   ]
  },
  {
   "cell_type": "code",
   "execution_count": 12,
   "id": "6329b082",
   "metadata": {},
   "outputs": [
    {
     "name": "stdout",
     "output_type": "stream",
     "text": [
      "복잡한 세상 편하게 살자\n",
      "복세편살\n"
     ]
    }
   ],
   "source": [
    "user_input = input().split(' ')\n",
    "#print(user_input)\n",
    "result = ''\n",
    "\n",
    "for s in user_input:\n",
    "    result += s[0]\n",
    "\n",
    "print(result)"
   ]
  },
  {
   "cell_type": "markdown",
   "id": "b4c1fbd5",
   "metadata": {},
   "source": [
    "### 문제64 : 이상한 엘레베이터"
   ]
  },
  {
   "cell_type": "code",
   "execution_count": 15,
   "id": "71ab4ae1",
   "metadata": {},
   "outputs": [
    {
     "name": "stdout",
     "output_type": "stream",
     "text": [
      "24\n",
      "4\n"
     ]
    }
   ],
   "source": [
    "N = int(input())\n",
    "result = 0\n",
    "\n",
    "while True:\n",
    "    if N%7 ==0:\n",
    "        result += N//7\n",
    "        print(result)\n",
    "        break\n",
    "    N -= 3\n",
    "    result += 1\n",
    "    if N < 0:\n",
    "        print(-1)\n",
    "        break"
   ]
  },
  {
   "cell_type": "markdown",
   "id": "93ffedf5",
   "metadata": {},
   "source": [
    "### 문제65 : 변형된 리스트"
   ]
  },
  {
   "cell_type": "code",
   "execution_count": 17,
   "id": "6609d9b9",
   "metadata": {},
   "outputs": [
    {
     "name": "stdout",
     "output_type": "stream",
     "text": [
      "a = [1,2,3,4]\n",
      "b = [a,b,c,d]\n",
      "[['a', 'b'], ['=', '='], ['[1,2,3,4]', '[a,b,c,d]']]\n"
     ]
    }
   ],
   "source": [
    "a = input().split(' ')\n",
    "b = input().split(' ')\n",
    "\n",
    "c = []\n",
    "count = 0\n",
    "\n",
    "for i, j in zip(a, b):\n",
    "    if count % 2 == 0:\n",
    "        c.append([i, j])\n",
    "    else:\n",
    "        c.append([j, i])\n",
    "    count += 1\n",
    "\n",
    "print(c)"
   ]
  },
  {
   "cell_type": "markdown",
   "id": "8d77c559",
   "metadata": {},
   "source": [
    "### 문제66 : 블럭탑쌓기"
   ]
  },
  {
   "cell_type": "markdown",
   "id": "9c21fb91",
   "metadata": {},
   "source": [
    "```python\n",
    "**입력**\n",
    "탑 = [\"ABCDEF\", \"BCAD\", \"ADEFQRX\", \"BEDFG\"]\n",
    "규칙 = \"ABD\"\n",
    "\n",
    "**출력**\n",
    "[\"가능\",\"불가능\",\"가능\",\"가능]\n",
    "```"
   ]
  },
  {
   "cell_type": "code",
   "execution_count": 18,
   "id": "3f9a31a3",
   "metadata": {},
   "outputs": [
    {
     "name": "stdout",
     "output_type": "stream",
     "text": [
      "['가능', '불가능', '가능', '가능', '불가능']\n"
     ]
    }
   ],
   "source": [
    "def solution(전체블록, 규칙):\n",
    "    answer = []\n",
    "    for 부분블록 in 전체블록:\n",
    "        answer.append(블록순서체크(부분블록, 규칙))\n",
    "    return answer\n",
    "\n",
    "def 블록순서체크(부분블록, 규칙):\n",
    "    임시변수 = 규칙.index(규칙[0])\n",
    "    for 문자 in 부분블록:\n",
    "        if 문자 in 규칙:\n",
    "            if 임시변수 > 규칙.index(문자):\n",
    "                return '불가능'\n",
    "            임시변수 = 규칙.index(문자)\n",
    "    return '가능'\n",
    "\n",
    "전체블록 = ['ABCDEF', 'BCAD', 'ADEFQRX', 'BEDFG', 'AEBFDGCH']\n",
    "규칙 = 'ABCD'\n",
    "\n",
    "print(solution(전체블록, 규칙))"
   ]
  },
  {
   "cell_type": "markdown",
   "id": "e7a82628",
   "metadata": {},
   "source": [
    "### 문제67 : 민규의 악수"
   ]
  },
  {
   "cell_type": "code",
   "execution_count": 27,
   "id": "67fe03fc",
   "metadata": {},
   "outputs": [],
   "source": [
    "def solution(n):\n",
    "    people = 0\n",
    "    total = 0\n",
    "    while(True):\n",
    "        total = people*(people-1)/2\n",
    "        if n<total:\n",
    "            break\n",
    "        people+=1\n",
    "    times = int(people-(total-n)-1)\n",
    "    return [times,people]"
   ]
  },
  {
   "cell_type": "markdown",
   "id": "035ce447",
   "metadata": {},
   "source": [
    "### 문제68 : 버스 시간표"
   ]
  },
  {
   "cell_type": "markdown",
   "id": "2c184c1a",
   "metadata": {},
   "source": [
    "```python\n",
    "**입력**\n",
    "[\"12:30\", \"13:20\", \"14:13\"]\n",
    "\"12:40\"\n",
    "\n",
    "**출력**\n",
    "['지나갔습니다', '0시간 40분', '1시간 33분']\n",
    "```"
   ]
  },
  {
   "cell_type": "code",
   "execution_count": 20,
   "id": "8e3d1fbe",
   "metadata": {},
   "outputs": [
    {
     "data": {
      "text/plain": [
       "['지나갔습니다', '00시간 40분', '01시간 33분']"
      ]
     },
     "execution_count": 20,
     "metadata": {},
     "output_type": "execute_result"
    }
   ],
   "source": [
    "def sol(tb, rt):\n",
    "    answer = []\n",
    "    rt = rt.split(':')\n",
    "    for i in range(len(tb)):\n",
    "        time = tb[i].split(':')\n",
    "        time_to_min = ((int(time[0])*60 + int(time[1])) - (int(rt[0])*60+int(rt[1])))\n",
    "        if time_to_min < 0:\n",
    "            answer.append(\"지나갔습니다\")\n",
    "        else:\n",
    "            a = (time_to_min) // 60\n",
    "            b = (time_to_min) % 60\n",
    "            answer.append(str(a).zfill(2)+'시간 '+str(b).zfill(2)+'분')\n",
    "    return answer\n",
    "\n",
    "sol([\"12:30\", \"13:20\", \"14:13\"], \"12:40\")"
   ]
  },
  {
   "cell_type": "markdown",
   "id": "9944d89a",
   "metadata": {},
   "source": [
    "### 문제69 : 골드바흐의 추측"
   ]
  },
  {
   "cell_type": "code",
   "execution_count": 25,
   "id": "12bfb12d",
   "metadata": {},
   "outputs": [
    {
     "name": "stdout",
     "output_type": "stream",
     "text": [
      "4\n",
      "2 2\n"
     ]
    }
   ],
   "source": [
    "def cal():\n",
    "    n=10000*2\n",
    "    primes=[]    \n",
    "    a = [False,False] + [True]*(n-1)\n",
    "\n",
    "    for i in range(2,n+1):\n",
    "      if a[i]:\n",
    "        primes.append(i)\n",
    "        for j in range(2*i, n+1, i):\n",
    "            a[j] = False\n",
    "            \n",
    "    return primes\n",
    "\n",
    "a = cal()\n",
    "\n",
    "n = int(input())\n",
    "l = []\n",
    "k = []\n",
    "\n",
    "for i in range(2, n//2+1):    \n",
    "    if i in a and n-i in a:\n",
    "        l.append(i)\n",
    "        l.append(n-i)\n",
    "\n",
    "for i in range(0,len(l)-1,2):\n",
    "    k.append(l[i+1]-l[i])\n",
    "    \n",
    "index = k.index(min(k))*2\n",
    "print(l[index], l[index+1])"
   ]
  },
  {
   "cell_type": "markdown",
   "id": "3e1d1ae6",
   "metadata": {},
   "source": [
    "### 문제70 : 행렬 곱하기"
   ]
  },
  {
   "cell_type": "markdown",
   "id": "df1dfb91",
   "metadata": {},
   "source": [
    "```python\n",
    "**입력**\n",
    "a = ([1, 2],\n",
    "     [2, 4])\n",
    "b = ([1, 0],\n",
    "     [0, 3])\n",
    "\n",
    "**출력**\n",
    "([1,6], [2,12])\n",
    "```"
   ]
  },
  {
   "cell_type": "code",
   "execution_count": 24,
   "id": "7973f5fb",
   "metadata": {},
   "outputs": [
    {
     "name": "stdout",
     "output_type": "stream",
     "text": [
      "[[1, 6], [2, 12]]\n"
     ]
    }
   ],
   "source": [
    "def sol(a, b):\n",
    "    c = []\n",
    "    if len(a) == len(b[0]):\n",
    "        for i in range(len(a)):\n",
    "            c.append([0]*len(b[0]))\n",
    "        for i in range(len(c)):\n",
    "            for j in range(len(c[i])):\n",
    "                for k in range(len(a[i])):\n",
    "                    c[i][j] += a[i][k] * b[k][j]\n",
    "        return c\n",
    "    else:\n",
    "        return -1\n",
    "print(sol(a, b))"
   ]
  }
 ],
 "metadata": {
  "kernelspec": {
   "display_name": "Python 3",
   "language": "python",
   "name": "python3"
  },
  "language_info": {
   "codemirror_mode": {
    "name": "ipython",
    "version": 3
   },
   "file_extension": ".py",
   "mimetype": "text/x-python",
   "name": "python",
   "nbconvert_exporter": "python",
   "pygments_lexer": "ipython3",
   "version": "3.8.8"
  }
 },
 "nbformat": 4,
 "nbformat_minor": 5
}
