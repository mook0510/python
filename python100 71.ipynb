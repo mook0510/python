{
 "cells": [
  {
   "cell_type": "markdown",
   "id": "3892d324",
   "metadata": {},
   "source": [
    "### 문제71 : 깊이 우선 탐색"
   ]
  },
  {
   "cell_type": "markdown",
   "id": "a1abecc3",
   "metadata": {},
   "source": [
    "```python\n",
    "**1. 데이터**\n",
    "\n",
    "graph = {'E': set(['D', 'A']),\n",
    "         'F': set(['D']),\n",
    "         'A': set(['E', 'C', 'B']),\n",
    "         'B': set(['A']),\n",
    "         'C': set(['A']),\n",
    "         'D': set(['E','F'])}\n",
    "\n",
    "**2.** **출력\n",
    "['E', 'A', 'B', 'C', 'D', 'F']\n",
    "\n",
    "3. 코드**\n",
    "\n",
    "graph = {\n",
    "        'A': set(['B', 'C', 'E']),\n",
    "        'B': set(['A']),\n",
    "        'C': set(['A']),\n",
    "        'D': set(['E', 'F']),\n",
    "        'E': set(['A', 'D']),\n",
    "        'F': set(['D'])\n",
    "}\n",
    "\n",
    "def dfs(graph, start):\n",
    "    visited = []\n",
    "    stack = [start]\n",
    "\n",
    "    while stack:\n",
    "        n = stack.pop()\n",
    "        if n not in visited:\n",
    "            visited.append(n)\n",
    "            **pass**\n",
    "    return visited\n",
    "\n",
    "print(dfs(graph, 'E'))\n",
    "```"
   ]
  },
  {
   "cell_type": "code",
   "execution_count": 1,
   "id": "4ab2bbc4",
   "metadata": {},
   "outputs": [
    {
     "name": "stdout",
     "output_type": "stream",
     "text": [
      "['E', 'D', 'F', 'A', 'C', 'B']\n"
     ]
    }
   ],
   "source": [
    "graph = {\n",
    "        'A': set(['B', 'C', 'E']),\n",
    "        'B': set(['A']),\n",
    "        'C': set(['A']),\n",
    "        'D': set(['E', 'F']),\n",
    "        'E': set(['A', 'D']),\n",
    "        'F': set(['D'])\n",
    "}\n",
    "\n",
    "def dfs(graph, start):\n",
    "    visited = []\n",
    "    stack = [start]\n",
    "\n",
    "    while stack:\n",
    "        n = stack.pop()\n",
    "        if n not in visited:\n",
    "            visited.append(n)\n",
    "            stack += graph[n] - set(visited)\n",
    "    return visited\n",
    "\n",
    "print(dfs(graph, 'E'))"
   ]
  },
  {
   "cell_type": "markdown",
   "id": "fa2890e7",
   "metadata": {},
   "source": [
    "E->D->F->D->E->A->C->A->B   \n",
    "E->D->F->A->C->B"
   ]
  },
  {
   "cell_type": "markdown",
   "id": "23a8a5b7",
   "metadata": {},
   "source": [
    "### 문제72 : 너비 우선 탐색"
   ]
  },
  {
   "cell_type": "markdown",
   "id": "a1b59ea7",
   "metadata": {},
   "source": [
    "```python\n",
    "**1. 데이터**\n",
    "\n",
    "graph = {'E': set(['D', 'A']),\n",
    "         'F': set(['D']),\n",
    "         'A': set(['E', 'C', 'B']),\n",
    "         'B': set(['A']),\n",
    "         'C': set(['A']),\n",
    "         'D': set(['E','F'])}\n",
    "\n",
    "**2. 출력**\n",
    "\n",
    "['E', 'D', 'A', 'F', 'C', 'B']\n",
    "\n",
    "**3. 코드**\n",
    "\n",
    "graph = {'E': set(['D', 'A']),\n",
    "         'F': set(['D']),\n",
    "         'A': set(['E', 'C', 'B']),\n",
    "         'B': set(['A']),\n",
    "         'C': set(['A']),\n",
    "         'D': set(['E','F'])}\n",
    "\n",
    "def bfs(graph, start):\n",
    "    visited = []\n",
    "    queue = [start]\n",
    "\n",
    "    while queue:\n",
    "        **pass**\n",
    "        if n not in visited:\n",
    "            visited.append(n)\n",
    "            queue += graph[n] - set(visited)\n",
    "    return visited\n",
    "\n",
    "print(bfs(graph, 'E'))\n",
    "```"
   ]
  },
  {
   "cell_type": "code",
   "execution_count": 3,
   "id": "9736ab43",
   "metadata": {},
   "outputs": [
    {
     "name": "stdout",
     "output_type": "stream",
     "text": [
      "['E', 'A', 'D', 'B', 'C', 'F']\n"
     ]
    }
   ],
   "source": [
    "graph = {\n",
    "        'A': set(['B', 'C', 'E']),\n",
    "        'B': set(['A']),\n",
    "        'C': set(['A']),\n",
    "        'D': set(['E', 'F']),\n",
    "        'E': set(['A', 'D']),\n",
    "        'F': set(['D'])\n",
    "}\n",
    "\n",
    "def bfs(graph, start):\n",
    "    visited = []\n",
    "    queue = [start]\n",
    "\n",
    "    while queue:\n",
    "        n = queue.pop(0)\n",
    "        if n not in visited:\n",
    "            visited.append(n)\n",
    "            queue += graph[n] - set(visited)\n",
    "    return visited\n",
    "\n",
    "print(bfs(graph, 'E'))"
   ]
  },
  {
   "cell_type": "markdown",
   "id": "9e21f23c",
   "metadata": {},
   "source": [
    "E->D->A->F->C->B"
   ]
  },
  {
   "cell_type": "markdown",
   "id": "75d6e7be",
   "metadata": {},
   "source": [
    "### *문제73 : 최단 경로 찾기"
   ]
  },
  {
   "cell_type": "markdown",
   "id": "aed4081b",
   "metadata": {},
   "source": [
    "```python\n",
    "**데이터**\n",
    "graph = {'A': set(['B', 'C']),\n",
    "         'B': set(['A', 'D', 'E']),\n",
    "         'C': set(['A', 'F']),\n",
    "         'D': set(['B']),\n",
    "         'E': set(['B', 'F']),\n",
    "         'F': set(['C', 'E'])}\n",
    "\n",
    "**입출력**\n",
    "\n",
    "입력 : A F\n",
    "출력 : 2\n",
    "```"
   ]
  },
  {
   "cell_type": "code",
   "execution_count": 10,
   "id": "668ac463",
   "metadata": {},
   "outputs": [
    {
     "name": "stdout",
     "output_type": "stream",
     "text": [
      "A F\n",
      "2\n"
     ]
    }
   ],
   "source": [
    "graph = {'A': set(['B', 'C']),\n",
    "         'B': set(['A', 'D', 'E']),\n",
    "         'C': set(['A', 'F']),\n",
    "         'D': set(['B']),\n",
    "         'E': set(['B', 'F']),\n",
    "         'F': set(['C', 'E'])}\n",
    "\n",
    "start, end = [i for i in input().split()]\n",
    "    \n",
    "queue = [start]\n",
    "visited = [start]\n",
    "    \n",
    "def solution():\n",
    "    count = -1\n",
    "\n",
    "    while len(queue)!=0:\n",
    "        count += 1\n",
    "        size = len(queue)\n",
    "\n",
    "        for i in range(size):\n",
    "            node = queue.pop(0)\n",
    "            if node == end:\n",
    "                return count\n",
    "\n",
    "            for next_node in graph[node]:\n",
    "                if next_node not in visited:\n",
    "                    visited.append(next_node)\n",
    "                    queue.append(next_node)\n",
    "\n",
    "print(solution())"
   ]
  },
  {
   "cell_type": "markdown",
   "id": "4a348477",
   "metadata": {},
   "source": [
    "### *문제74 : 최장 경로 찾기"
   ]
  },
  {
   "cell_type": "markdown",
   "id": "edfb047e",
   "metadata": {},
   "source": [
    "```python\n",
    "**데이터**\n",
    "graph = {1: [2, 3, 4],\n",
    "\t\t\t\t 2: [1, 3, 4, 5, 6],\n",
    "\t\t\t\t 3: [1, 2, 7],\n",
    "\t\t\t\t 4: [1, 2, 5, 6],\n",
    "\t\t\t\t 5: [2, 4, 6, 7],\n",
    "\t\t\t\t 6: [2, 4, 5, 7],\n",
    "\t\t\t\t 7: [3, 5, 6]}\n",
    "\n",
    "**입력**\n",
    "1 7\n",
    "\n",
    "**출력**\n",
    "6\n",
    "```"
   ]
  },
  {
   "cell_type": "code",
   "execution_count": 4,
   "id": "b31c6df6",
   "metadata": {},
   "outputs": [
    {
     "name": "stdout",
     "output_type": "stream",
     "text": [
      "1 7\n",
      "6\n"
     ]
    }
   ],
   "source": [
    "graph = {1: [2, 3, 4],\n",
    "                 2: [1, 3, 4, 5, 6],\n",
    "                 3: [1, 2, 7],\n",
    "                 4: [1, 2, 5, 6],\n",
    "                 5: [2, 4, 6, 7],\n",
    "                 6: [2, 4, 5, 7],\n",
    "                 7: [3, 5, 6]} \n",
    "\n",
    "start, end = [int(i) for i in input().split()]\n",
    "queue = [start]\n",
    "visited = []\n",
    "\n",
    "def sol(n, visited):\n",
    "    if n[-1] == end:\n",
    "        return len(visited)\n",
    "\n",
    "    if n[-1] in visited:\n",
    "        return len(visited)\n",
    "\n",
    "    visited.append(n[-1])\n",
    "    length = 0\n",
    "\n",
    "    for next_node in graph[n[-1]]:\n",
    "        n.append(next_node)\n",
    "        length = max(length, sol(n, visited))\n",
    "        queue.pop(-1)\n",
    "    return length\n",
    "\n",
    "print(sol(queue, visited))"
   ]
  },
  {
   "cell_type": "markdown",
   "id": "73e517b7",
   "metadata": {},
   "source": [
    "### *문제75 : 이상한 369"
   ]
  },
  {
   "cell_type": "code",
   "execution_count": 7,
   "id": "9ed1d6a8",
   "metadata": {},
   "outputs": [],
   "source": [
    "def sol(n):\n",
    "    n = list(str(n))\n",
    "    answer = 0\n",
    "    count = 1\n",
    "    d = {3 : 1, 6 : 2, 9 : 3}\n",
    "    \n",
    "    while n:\n",
    "        answer += d[int(n.pop())] * count\n",
    "        count *= 3\n",
    "        \n",
    "    return answer"
   ]
  },
  {
   "cell_type": "markdown",
   "id": "f154af47",
   "metadata": {},
   "source": [
    "### *문제76 : 안전한 땅"
   ]
  },
  {
   "cell_type": "markdown",
   "id": "e6d2faa7",
   "metadata": {},
   "source": [
    "```python\n",
    "**입력**\n",
    "1\n",
    "5 3\n",
    "1 0 0 1 0\n",
    "0 1 0 0 1\n",
    "0 0 0 1 0\n",
    "0 0 0 0 0\n",
    "0 0 1 0 0\n",
    "\n",
    "**출력**\n",
    "3\n",
    "```"
   ]
  },
  {
   "cell_type": "code",
   "execution_count": 9,
   "id": "5724b45d",
   "metadata": {},
   "outputs": [
    {
     "ename": "TypeError",
     "evalue": "list indices must be integers or slices, not tuple",
     "output_type": "error",
     "traceback": [
      "\u001b[1;31m---------------------------------------------------------------------------\u001b[0m",
      "\u001b[1;31mTypeError\u001b[0m                                 Traceback (most recent call last)",
      "\u001b[1;32m<ipython-input-9-c164b8110b6a>\u001b[0m in \u001b[0;36m<module>\u001b[1;34m\u001b[0m\n\u001b[0;32m     13\u001b[0m \u001b[1;32mfor\u001b[0m \u001b[0mi\u001b[0m \u001b[1;32min\u001b[0m \u001b[0mrange\u001b[0m\u001b[1;33m(\u001b[0m\u001b[0m사각형\u001b[0m \u001b[1;33m-\u001b[0m \u001b[0m탐색가능지역\u001b[0m \u001b[1;33m+\u001b[0m \u001b[1;36m1\u001b[0m\u001b[1;33m)\u001b[0m\u001b[1;33m:\u001b[0m\u001b[1;33m\u001b[0m\u001b[1;33m\u001b[0m\u001b[0m\n\u001b[0;32m     14\u001b[0m     \u001b[1;32mfor\u001b[0m \u001b[0mj\u001b[0m \u001b[1;32min\u001b[0m \u001b[0mrange\u001b[0m\u001b[1;33m(\u001b[0m\u001b[0m탐색가능지역\u001b[0m\u001b[1;33m)\u001b[0m\u001b[1;33m:\u001b[0m\u001b[1;33m\u001b[0m\u001b[1;33m\u001b[0m\u001b[0m\n\u001b[1;32m---> 15\u001b[1;33m         \u001b[1;32mif\u001b[0m \u001b[0mnp\u001b[0m\u001b[1;33m.\u001b[0m\u001b[0msum\u001b[0m\u001b[1;33m(\u001b[0m\u001b[0m지뢰밭\u001b[0m\u001b[1;33m[\u001b[0m\u001b[0mi\u001b[0m\u001b[1;33m:\u001b[0m\u001b[0m탐색가능지역\u001b[0m\u001b[1;33m+\u001b[0m\u001b[0mi\u001b[0m\u001b[1;33m,\u001b[0m \u001b[0mj\u001b[0m\u001b[1;33m:\u001b[0m\u001b[0m탐색가능지역\u001b[0m\u001b[1;33m+\u001b[0m\u001b[0mj\u001b[0m\u001b[1;33m]\u001b[0m\u001b[1;33m)\u001b[0m \u001b[1;33m>\u001b[0m \u001b[0ms\u001b[0m\u001b[1;33m:\u001b[0m\u001b[1;33m\u001b[0m\u001b[1;33m\u001b[0m\u001b[0m\n\u001b[0m\u001b[0;32m     16\u001b[0m             \u001b[0ms\u001b[0m \u001b[1;33m=\u001b[0m \u001b[0mnp\u001b[0m\u001b[1;33m.\u001b[0m\u001b[0msum\u001b[0m\u001b[1;33m(\u001b[0m\u001b[0m지뢰밭\u001b[0m\u001b[1;33m[\u001b[0m\u001b[0mi\u001b[0m\u001b[1;33m:\u001b[0m\u001b[0m탐색가능지역\u001b[0m\u001b[1;33m+\u001b[0m\u001b[0mi\u001b[0m\u001b[1;33m,\u001b[0m \u001b[0mj\u001b[0m\u001b[1;33m:\u001b[0m\u001b[0m탐색가능지역\u001b[0m\u001b[1;33m+\u001b[0m\u001b[0mj\u001b[0m\u001b[1;33m]\u001b[0m\u001b[1;33m)\u001b[0m\u001b[1;33m\u001b[0m\u001b[1;33m\u001b[0m\u001b[0m\n\u001b[0;32m     17\u001b[0m \u001b[0mprint\u001b[0m\u001b[1;33m(\u001b[0m\u001b[0ms\u001b[0m\u001b[1;33m)\u001b[0m\u001b[1;33m\u001b[0m\u001b[1;33m\u001b[0m\u001b[0m\n",
      "\u001b[1;31mTypeError\u001b[0m: list indices must be integers or slices, not tuple"
     ]
    }
   ],
   "source": [
    "import numpy as np\n",
    "\n",
    "사각형 = 5\n",
    "탐색가능지역 = 3\n",
    "\n",
    "지뢰밭 = [[1, 0, 0, 1, 0],\n",
    "          [0, 1, 0, 0, 1],\n",
    "          [0, 0, 0, 1, 0],\n",
    "          [0, 0, 0, 0, 0],\n",
    "          [0, 0, 1, 0, 0]]\n",
    "\n",
    "s = 0\n",
    "for i in range(사각형 - 탐색가능지역 + 1):\n",
    "    for j in range(탐색가능지역):\n",
    "        if np.sum(지뢰밭[i:탐색가능지역+i, j:탐색가능지역+j]) > s: \n",
    "            s = np.sum(지뢰밭[i:탐색가능지역+i, j:탐색가능지역+j])\n",
    "print(s)"
   ]
  },
  {
   "cell_type": "markdown",
   "id": "b0d898bb",
   "metadata": {},
   "source": [
    "### *문제77 : 가장 긴 공통 부분 문자열"
   ]
  },
  {
   "cell_type": "markdown",
   "id": "62dcc9a5",
   "metadata": {},
   "source": [
    "```python\n",
    "**- Test Case -**\n",
    "\n",
    "**입력**\n",
    "THISISSTRINGS\n",
    "THISIS\n",
    "\n",
    "**출력**\n",
    "6\n",
    "\n",
    "-\n",
    "\n",
    "**입력**\n",
    "THISISSTRINGS\n",
    "TATHISISKKQQAEW\n",
    "\n",
    "**출력**\n",
    "6\n",
    "\n",
    "-\n",
    "\n",
    "**입력**\n",
    "THISISSTRINGS\n",
    "KIOTHIKESSISKKQQAEW\n",
    "\n",
    "**출력**\n",
    "3\n",
    "\n",
    "-\n",
    "\n",
    "**입력**\n",
    "THISISSTRINGS\n",
    "TKHKIKSIS\n",
    "\n",
    "**출력**\n",
    "3\n",
    "```"
   ]
  },
  {
   "cell_type": "code",
   "execution_count": 10,
   "id": "e4cafbe3",
   "metadata": {},
   "outputs": [
    {
     "name": "stdout",
     "output_type": "stream",
     "text": [
      "THISISSTRINGS\n",
      "TKHKIKSIS\n",
      "3\n"
     ]
    }
   ],
   "source": [
    "def sol(strings):\n",
    "    result = []\n",
    "    for i in range(1,len(strings)+1):\n",
    "        for j in range(i):\n",
    "            result.append(strings[j:j+len(strings)-i+1])\n",
    "    return result\n",
    "\n",
    "input1 = input()\n",
    "input2 = input()\n",
    "\n",
    "list1 = set(sol(input1))\n",
    "list2 = set(sol(input2))\n",
    "\n",
    "answers = list1.intersection(list2)\n",
    "\n",
    "answer = max(answers,key=len)\n",
    "print(len(answer))"
   ]
  },
  {
   "cell_type": "markdown",
   "id": "e72beb35",
   "metadata": {},
   "source": [
    "### *문제78 : 원형테이블"
   ]
  },
  {
   "cell_type": "markdown",
   "id": "5086863d",
   "metadata": {},
   "source": [
    "```python\n",
    "입력은 2개의 정수로 이루어지며 공백으로 구분되어 입력됩니다.\n",
    "첫번째 숫자가 음식의 개수 N, 두번째 숫자가 K입니다.\n",
    "첫번째 가져가는 음식이 K이며 나머지는 첫번째 음식으로부터 시계방향으로 가져갑니다.\n",
    "\n",
    "**입력**\n",
    "6 3\n",
    "\n",
    "****남은 음식들의 번호를 리스트 형태로 출력합니다.\n",
    "**출력**\n",
    "[3, 5]\n",
    "```"
   ]
  },
  {
   "cell_type": "code",
   "execution_count": 11,
   "id": "5bc1a40c",
   "metadata": {},
   "outputs": [
    {
     "name": "stdout",
     "output_type": "stream",
     "text": [
      "6 3\n",
      "[3, 5]\n"
     ]
    }
   ],
   "source": [
    "a = input().split(' ')\n",
    "n, k = a\n",
    "\n",
    "def sol(n, k):\n",
    "    i = 0\n",
    "    q = [i for i in range(1,n+1)]\n",
    "\n",
    "    while len(q) > 2:\n",
    "        if i > len(q)-1:\n",
    "            i -= len(q)\n",
    "        q.pop(i)\n",
    "        i += k\n",
    "        i -= 1\n",
    "    print(q)\n",
    "sol(int(n),int(k))"
   ]
  },
  {
   "cell_type": "markdown",
   "id": "a60d12e3",
   "metadata": {},
   "source": [
    "### *문제79 : 순회하는 리스트"
   ]
  },
  {
   "cell_type": "code",
   "execution_count": 13,
   "id": "5e24facc",
   "metadata": {},
   "outputs": [
    {
     "ename": "NameError",
     "evalue": "name 'l' is not defined",
     "output_type": "error",
     "traceback": [
      "\u001b[1;31m---------------------------------------------------------------------------\u001b[0m",
      "\u001b[1;31mNameError\u001b[0m                                 Traceback (most recent call last)",
      "\u001b[1;32m<ipython-input-13-e8b0ab375d89>\u001b[0m in \u001b[0;36m<module>\u001b[1;34m\u001b[0m\n\u001b[0;32m     10\u001b[0m     \u001b[0mprint\u001b[0m\u001b[1;33m(\u001b[0m\u001b[1;34m\"value :\"\u001b[0m\u001b[1;33m,\u001b[0m\u001b[0ma\u001b[0m\u001b[1;33m[\u001b[0m\u001b[0mindex\u001b[0m\u001b[1;33m]\u001b[0m\u001b[1;33m,\u001b[0m\u001b[0mb\u001b[0m\u001b[1;33m[\u001b[0m\u001b[0mindex\u001b[0m\u001b[1;33m]\u001b[0m\u001b[1;33m)\u001b[0m\u001b[1;33m\u001b[0m\u001b[1;33m\u001b[0m\u001b[0m\n\u001b[0;32m     11\u001b[0m \u001b[1;33m\u001b[0m\u001b[0m\n\u001b[1;32m---> 12\u001b[1;33m \u001b[0msol\u001b[0m\u001b[1;33m(\u001b[0m\u001b[0ml\u001b[0m\u001b[1;33m,\u001b[0m\u001b[0mturn\u001b[0m\u001b[1;33m)\u001b[0m\u001b[1;33m\u001b[0m\u001b[1;33m\u001b[0m\u001b[0m\n\u001b[0m",
      "\u001b[1;31mNameError\u001b[0m: name 'l' is not defined"
     ]
    }
   ],
   "source": [
    "def sol(a, t):\n",
    "    b = a.copy()\n",
    "    c = []\n",
    "    for i in range(t):\n",
    "        b.insert(0,b.pop())\n",
    "    for i,j in zip(a,b):\n",
    "        c.append(abs(i-j))\n",
    "    index = c.index(min(c))\n",
    "    print(\"index :\",index)\n",
    "    print(\"value :\",a[index],b[index])\n",
    "\n",
    "sol(l,turn)"
   ]
  },
  {
   "cell_type": "markdown",
   "id": "22adea9f",
   "metadata": {},
   "source": [
    "### *문제80 : 순열과 조합"
   ]
  },
  {
   "cell_type": "markdown",
   "id": "eb80fd9e",
   "metadata": {},
   "source": [
    "```python\n",
    "**입력**\n",
    "ㄱ,ㄴ,ㄷ,ㄹ\n",
    "3\n",
    "\n",
    "**출력**\n",
    "['ㄱㄴㄷ', 'ㄱㄴㄹ', 'ㄱㄷㄹ', 'ㄴㄷㄹ']\n",
    "4\n",
    "```"
   ]
  },
  {
   "cell_type": "code",
   "execution_count": 12,
   "id": "022068e4",
   "metadata": {},
   "outputs": [
    {
     "name": "stdout",
     "output_type": "stream",
     "text": [
      "ㄱ,ㄴ,ㄷ,ㄹ\n",
      "3\n",
      "['ㄱㄴㄷ', 'ㄱㄴㄹ', 'ㄱㄷㄹ', 'ㄴㄷㄹ']\n"
     ]
    }
   ],
   "source": [
    "from itertools import permutations #이 문제에서는 안쓰지만 어떤 것인지 확인해보세요.\n",
    "from itertools import combinations\n",
    "\n",
    "import itertools\n",
    "\n",
    "user_input = input().split(',')\n",
    "user_input_int = int(input())\n",
    "\n",
    "#print(list(itertools.combinations(a, 3)))\n",
    "\n",
    "print(list(map(''.join, combinations(user_input, user_input_int))))"
   ]
  }
 ],
 "metadata": {
  "kernelspec": {
   "display_name": "Python 3",
   "language": "python",
   "name": "python3"
  },
  "language_info": {
   "codemirror_mode": {
    "name": "ipython",
    "version": 3
   },
   "file_extension": ".py",
   "mimetype": "text/x-python",
   "name": "python",
   "nbconvert_exporter": "python",
   "pygments_lexer": "ipython3",
   "version": "3.8.8"
  }
 },
 "nbformat": 4,
 "nbformat_minor": 5
}
