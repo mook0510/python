{
 "cells": [
  {
   "cell_type": "markdown",
   "id": "e30516cf",
   "metadata": {},
   "source": [
    "# 백트래킹"
   ]
  },
  {
   "cell_type": "markdown",
   "id": "7720fd2b",
   "metadata": {},
   "source": [
    "## 1.N과 M (1)\n",
    "### 자연수 N과 M이 주어졌을 때, 아래 조건을 만족하는 길이가 M인 수열을 모두 구하는 프로그램을 작성하시오.\n",
    "1부터 N까지 자연수 중에서 중복 없이 M개를 고른 수열\n"
   ]
  },
  {
   "cell_type": "code",
   "execution_count": null,
   "id": "48508ab9",
   "metadata": {},
   "outputs": [],
   "source": []
  },
  {
   "cell_type": "markdown",
   "id": "ea2a692b",
   "metadata": {},
   "source": [
    "## 2.N과 M (2)\n",
    "### 자연수 N과 M이 주어졌을 때, 아래 조건을 만족하는 길이가 M인 수열을 모두 구하는 프로그램을 작성하시오.\n",
    "\n",
    "1부터 N까지 자연수 중에서 중복 없이 M개를 고른 수열\n",
    "고른 수열은 오름차순이어야 한다."
   ]
  },
  {
   "cell_type": "code",
   "execution_count": null,
   "id": "693c7239",
   "metadata": {},
   "outputs": [],
   "source": []
  },
  {
   "cell_type": "markdown",
   "id": "ff6789f5",
   "metadata": {},
   "source": [
    "## 3.N과 M (3)\n",
    "### 자연수 N과 M이 주어졌을 때, 아래 조건을 만족하는 길이가 M인 수열을 모두 구하는 프로그램을 작성하시오.\n",
    "\n",
    "1부터 N까지 자연수 중에서 M개를 고른 수열\n",
    "같은 수를 여러 번 골라도 된다."
   ]
  },
  {
   "cell_type": "code",
   "execution_count": null,
   "id": "05927f63",
   "metadata": {},
   "outputs": [],
   "source": []
  },
  {
   "cell_type": "markdown",
   "id": "e22088c9",
   "metadata": {},
   "source": [
    "## 4.N과 M (4)\n",
    "### 자연수 N과 M이 주어졌을 때, 아래 조건을 만족하는 길이가 M인 수열을 모두 구하는 프로그램을 작성하시오.\n",
    "\n",
    "1부터 N까지 자연수 중에서 M개를 고른 수열\n",
    "같은 수를 여러 번 골라도 된다.\n",
    "고른 수열은 비내림차순이어야 한다.\n",
    "길이가 K인 수열 A가 A1 ≤ A2 ≤ ... ≤ AK-1 ≤ AK를 만족하면, 비내림차순이라고 한다."
   ]
  },
  {
   "cell_type": "code",
   "execution_count": null,
   "id": "1a921148",
   "metadata": {},
   "outputs": [],
   "source": []
  },
  {
   "cell_type": "markdown",
   "id": "cbb14eda",
   "metadata": {},
   "source": [
    "## 5.N-Queen\n",
    "### N-Queen 문제는 크기가 N × N인 체스판 위에 퀸 N개를 서로 공격할 수 없게 놓는 문제이다.\n",
    "\n",
    "N이 주어졌을 때, 퀸을 놓는 방법의 수를 구하는 프로그램을 작성하시오."
   ]
  },
  {
   "cell_type": "code",
   "execution_count": null,
   "id": "2f230958",
   "metadata": {},
   "outputs": [],
   "source": []
  },
  {
   "cell_type": "markdown",
   "id": "bfc6c930",
   "metadata": {},
   "source": [
    "## 6.스도쿠 \n",
    "### "
   ]
  },
  {
   "cell_type": "code",
   "execution_count": null,
   "id": "ffcc0cce",
   "metadata": {},
   "outputs": [],
   "source": []
  },
  {
   "cell_type": "markdown",
   "id": "37ba2cea",
   "metadata": {},
   "source": [
    "## 7.연산자 끼워넣기\n",
    "### N개의 수로 이루어진 수열 A1, A2, ..., AN이 주어진다. 또, 수와 수 사이에 끼워넣을 수 있는 N-1개의 연산자가 주어진다. 연산자는 덧셈(+), 뺄셈(-), 곱셈(×), 나눗셈(÷)으로만 이루어져 있다.\n",
    "\n",
    "우리는 수와 수 사이에 연산자를 하나씩 넣어서, 수식을 하나 만들 수 있다. 이때, 주어진 수의 순서를 바꾸면 안 된다.\n",
    "\n",
    "예를 들어, 6개의 수로 이루어진 수열이 1, 2, 3, 4, 5, 6이고, 주어진 연산자가 덧셈(+) 2개, 뺄셈(-) 1개, 곱셈(×) 1개, 나눗셈(÷) 1개인 경우에는 총 60가지의 식을 만들 수 있다. 예를 들어, 아래와 같은 식을 만들 수 있다.\n",
    "\n",
    "1+2+3-4×5÷6\n",
    "1÷2+3+4-5×6\n",
    "1+2÷3×4-5+6\n",
    "1÷2×3-4+5+6\n",
    "식의 계산은 연산자 우선 순위를 무시하고 앞에서부터 진행해야 한다. 또, 나눗셈은 정수 나눗셈으로 몫만 취한다. 음수를 양수로 나눌 때는 C++14의 기준을 따른다. 즉, 양수로 바꾼 뒤 몫을 취하고, 그 몫을 음수로 바꾼 것과 같다. 이에 따라서, 위의 식 4개의 결과를 계산해보면 아래와 같다.\n",
    "\n",
    "1+2+3-4×5÷6 = 1\n",
    "1÷2+3+4-5×6 = 12\n",
    "1+2÷3×4-5+6 = 5\n",
    "1÷2×3-4+5+6 = 7\n",
    "N개의 수와 N-1개의 연산자가 주어졌을 때, 만들 수 있는 식의 결과가 최대인 것과 최소인 것을 구하는 프로그램을 작성하시오."
   ]
  },
  {
   "cell_type": "code",
   "execution_count": null,
   "id": "dbb0d385",
   "metadata": {},
   "outputs": [],
   "source": []
  },
  {
   "cell_type": "markdown",
   "id": "bd3a6472",
   "metadata": {},
   "source": [
    "## 8.스타트와 링크\n",
    "### 오늘은 스타트링크에 다니는 사람들이 모여서 축구를 해보려고 한다. 축구는 평일 오후에 하고 의무 참석도 아니다. 축구를 하기 위해 모인 사람은 총 N명이고 신기하게도 N은 짝수이다. 이제 N/2명으로 이루어진 스타트 팀과 링크 팀으로 사람들을 나눠야 한다.\n",
    "\n",
    "BOJ를 운영하는 회사 답게 사람에게 번호를 1부터 N까지로 배정했고, 아래와 같은 능력치를 조사했다. 능력치 Sij는 i번 사람과 j번 사람이 같은 팀에 속했을 때, 팀에 더해지는 능력치이다. 팀의 능력치는 팀에 속한 모든 쌍의 능력치 Sij의 합이다. Sij는 Sji와 다를 수도 있으며, i번 사람과 j번 사람이 같은 팀에 속했을 때, 팀에 더해지는 능력치는 Sij와 Sji이다.\n",
    "\n",
    "N=4이고, S가 아래와 같은 경우를 살펴보자.\n",
    "\n",
    "i\\j\t1\t2\t3\t4\n",
    "1\t \t1\t2\t3\n",
    "2\t4\t \t5\t6\n",
    "3\t7\t1\t \t2\n",
    "4\t3\t4\t5\t \n",
    "예를 들어, 1, 2번이 스타트 팀, 3, 4번이 링크 팀에 속한 경우에 두 팀의 능력치는 아래와 같다.\n",
    "\n",
    "스타트 팀: S12 + S21 = 1 + 4 = 5\n",
    "링크 팀: S34 + S43 = 2 + 5 = 7\n",
    "1, 3번이 스타트 팀, 2, 4번이 링크 팀에 속하면, 두 팀의 능력치는 아래와 같다.\n",
    "\n",
    "스타트 팀: S13 + S31 = 2 + 7 = 9\n",
    "링크 팀: S24 + S42 = 6 + 4 = 10\n",
    "축구를 재미있게 하기 위해서 스타트 팀의 능력치와 링크 팀의 능력치의 차이를 최소로 하려고 한다. 위의 예제와 같은 경우에는 1, 4번이 스타트 팀, 2, 3번 팀이 링크 팀에 속하면 스타트 팀의 능력치는 6, 링크 팀의 능력치는 6이 되어서 차이가 0이 되고 이 값이 최소이다."
   ]
  },
  {
   "cell_type": "code",
   "execution_count": null,
   "id": "31cd32c5",
   "metadata": {},
   "outputs": [],
   "source": []
  }
 ],
 "metadata": {
  "kernelspec": {
   "display_name": "Python 3",
   "language": "python",
   "name": "python3"
  },
  "language_info": {
   "codemirror_mode": {
    "name": "ipython",
    "version": 3
   },
   "file_extension": ".py",
   "mimetype": "text/x-python",
   "name": "python",
   "nbconvert_exporter": "python",
   "pygments_lexer": "ipython3",
   "version": "3.8.8"
  }
 },
 "nbformat": 4,
 "nbformat_minor": 5
}
